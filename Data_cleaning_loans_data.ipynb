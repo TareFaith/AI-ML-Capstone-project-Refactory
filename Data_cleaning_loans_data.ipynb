{
  "cells": [
    {
      "cell_type": "code",
      "execution_count": 1,
      "metadata": {
        "colab": {
          "base_uri": "https://localhost:8080/",
          "height": 142
        },
        "id": "XglpzFhBhBXI",
        "outputId": "1c39d27b-f8aa-4354-84a3-3b3ead7e72f9"
      },
      "outputs": [
        {
          "output_type": "display_data",
          "data": {
            "text/plain": [
              "<IPython.core.display.HTML object>"
            ],
            "text/html": [
              "\n",
              "     <input type=\"file\" id=\"files-ba05cf10-1b19-4398-8425-979ce26d95d4\" name=\"files[]\" multiple disabled\n",
              "        style=\"border:none\" />\n",
              "     <output id=\"result-ba05cf10-1b19-4398-8425-979ce26d95d4\">\n",
              "      Upload widget is only available when the cell has been executed in the\n",
              "      current browser session. Please rerun this cell to enable.\n",
              "      </output>\n",
              "      <script>// Copyright 2017 Google LLC\n",
              "//\n",
              "// Licensed under the Apache License, Version 2.0 (the \"License\");\n",
              "// you may not use this file except in compliance with the License.\n",
              "// You may obtain a copy of the License at\n",
              "//\n",
              "//      http://www.apache.org/licenses/LICENSE-2.0\n",
              "//\n",
              "// Unless required by applicable law or agreed to in writing, software\n",
              "// distributed under the License is distributed on an \"AS IS\" BASIS,\n",
              "// WITHOUT WARRANTIES OR CONDITIONS OF ANY KIND, either express or implied.\n",
              "// See the License for the specific language governing permissions and\n",
              "// limitations under the License.\n",
              "\n",
              "/**\n",
              " * @fileoverview Helpers for google.colab Python module.\n",
              " */\n",
              "(function(scope) {\n",
              "function span(text, styleAttributes = {}) {\n",
              "  const element = document.createElement('span');\n",
              "  element.textContent = text;\n",
              "  for (const key of Object.keys(styleAttributes)) {\n",
              "    element.style[key] = styleAttributes[key];\n",
              "  }\n",
              "  return element;\n",
              "}\n",
              "\n",
              "// Max number of bytes which will be uploaded at a time.\n",
              "const MAX_PAYLOAD_SIZE = 100 * 1024;\n",
              "\n",
              "function _uploadFiles(inputId, outputId) {\n",
              "  const steps = uploadFilesStep(inputId, outputId);\n",
              "  const outputElement = document.getElementById(outputId);\n",
              "  // Cache steps on the outputElement to make it available for the next call\n",
              "  // to uploadFilesContinue from Python.\n",
              "  outputElement.steps = steps;\n",
              "\n",
              "  return _uploadFilesContinue(outputId);\n",
              "}\n",
              "\n",
              "// This is roughly an async generator (not supported in the browser yet),\n",
              "// where there are multiple asynchronous steps and the Python side is going\n",
              "// to poll for completion of each step.\n",
              "// This uses a Promise to block the python side on completion of each step,\n",
              "// then passes the result of the previous step as the input to the next step.\n",
              "function _uploadFilesContinue(outputId) {\n",
              "  const outputElement = document.getElementById(outputId);\n",
              "  const steps = outputElement.steps;\n",
              "\n",
              "  const next = steps.next(outputElement.lastPromiseValue);\n",
              "  return Promise.resolve(next.value.promise).then((value) => {\n",
              "    // Cache the last promise value to make it available to the next\n",
              "    // step of the generator.\n",
              "    outputElement.lastPromiseValue = value;\n",
              "    return next.value.response;\n",
              "  });\n",
              "}\n",
              "\n",
              "/**\n",
              " * Generator function which is called between each async step of the upload\n",
              " * process.\n",
              " * @param {string} inputId Element ID of the input file picker element.\n",
              " * @param {string} outputId Element ID of the output display.\n",
              " * @return {!Iterable<!Object>} Iterable of next steps.\n",
              " */\n",
              "function* uploadFilesStep(inputId, outputId) {\n",
              "  const inputElement = document.getElementById(inputId);\n",
              "  inputElement.disabled = false;\n",
              "\n",
              "  const outputElement = document.getElementById(outputId);\n",
              "  outputElement.innerHTML = '';\n",
              "\n",
              "  const pickedPromise = new Promise((resolve) => {\n",
              "    inputElement.addEventListener('change', (e) => {\n",
              "      resolve(e.target.files);\n",
              "    });\n",
              "  });\n",
              "\n",
              "  const cancel = document.createElement('button');\n",
              "  inputElement.parentElement.appendChild(cancel);\n",
              "  cancel.textContent = 'Cancel upload';\n",
              "  const cancelPromise = new Promise((resolve) => {\n",
              "    cancel.onclick = () => {\n",
              "      resolve(null);\n",
              "    };\n",
              "  });\n",
              "\n",
              "  // Wait for the user to pick the files.\n",
              "  const files = yield {\n",
              "    promise: Promise.race([pickedPromise, cancelPromise]),\n",
              "    response: {\n",
              "      action: 'starting',\n",
              "    }\n",
              "  };\n",
              "\n",
              "  cancel.remove();\n",
              "\n",
              "  // Disable the input element since further picks are not allowed.\n",
              "  inputElement.disabled = true;\n",
              "\n",
              "  if (!files) {\n",
              "    return {\n",
              "      response: {\n",
              "        action: 'complete',\n",
              "      }\n",
              "    };\n",
              "  }\n",
              "\n",
              "  for (const file of files) {\n",
              "    const li = document.createElement('li');\n",
              "    li.append(span(file.name, {fontWeight: 'bold'}));\n",
              "    li.append(span(\n",
              "        `(${file.type || 'n/a'}) - ${file.size} bytes, ` +\n",
              "        `last modified: ${\n",
              "            file.lastModifiedDate ? file.lastModifiedDate.toLocaleDateString() :\n",
              "                                    'n/a'} - `));\n",
              "    const percent = span('0% done');\n",
              "    li.appendChild(percent);\n",
              "\n",
              "    outputElement.appendChild(li);\n",
              "\n",
              "    const fileDataPromise = new Promise((resolve) => {\n",
              "      const reader = new FileReader();\n",
              "      reader.onload = (e) => {\n",
              "        resolve(e.target.result);\n",
              "      };\n",
              "      reader.readAsArrayBuffer(file);\n",
              "    });\n",
              "    // Wait for the data to be ready.\n",
              "    let fileData = yield {\n",
              "      promise: fileDataPromise,\n",
              "      response: {\n",
              "        action: 'continue',\n",
              "      }\n",
              "    };\n",
              "\n",
              "    // Use a chunked sending to avoid message size limits. See b/62115660.\n",
              "    let position = 0;\n",
              "    do {\n",
              "      const length = Math.min(fileData.byteLength - position, MAX_PAYLOAD_SIZE);\n",
              "      const chunk = new Uint8Array(fileData, position, length);\n",
              "      position += length;\n",
              "\n",
              "      const base64 = btoa(String.fromCharCode.apply(null, chunk));\n",
              "      yield {\n",
              "        response: {\n",
              "          action: 'append',\n",
              "          file: file.name,\n",
              "          data: base64,\n",
              "        },\n",
              "      };\n",
              "\n",
              "      let percentDone = fileData.byteLength === 0 ?\n",
              "          100 :\n",
              "          Math.round((position / fileData.byteLength) * 100);\n",
              "      percent.textContent = `${percentDone}% done`;\n",
              "\n",
              "    } while (position < fileData.byteLength);\n",
              "  }\n",
              "\n",
              "  // All done.\n",
              "  yield {\n",
              "    response: {\n",
              "      action: 'complete',\n",
              "    }\n",
              "  };\n",
              "}\n",
              "\n",
              "scope.google = scope.google || {};\n",
              "scope.google.colab = scope.google.colab || {};\n",
              "scope.google.colab._files = {\n",
              "  _uploadFiles,\n",
              "  _uploadFilesContinue,\n",
              "};\n",
              "})(self);\n",
              "</script> "
            ]
          },
          "metadata": {}
        },
        {
          "output_type": "stream",
          "name": "stdout",
          "text": [
            "Saving traindemographics.csv to traindemographics.csv\n",
            "Saving trainperf.csv to trainperf.csv\n",
            "Saving trainprevloans.csv to trainprevloans.csv\n"
          ]
        }
      ],
      "source": [
        "# upload csv dataset\n",
        "from google.colab import files\n",
        "uploaded = files.upload()"
      ]
    },
    {
      "cell_type": "code",
      "execution_count": 2,
      "metadata": {
        "id": "MQ8q0oYiV-hh"
      },
      "outputs": [],
      "source": [
        "#import libraries\n",
        "import pandas as pd\n",
        "import numpy as np\n"
      ]
    },
    {
      "cell_type": "code",
      "execution_count": 3,
      "metadata": {
        "id": "-cPOSOBzlwqM"
      },
      "outputs": [],
      "source": [
        "#load datasets\n",
        "demo = pd.read_csv('traindemographics.csv')\n",
        "loan = pd.read_csv('trainprevloans.csv')\n",
        "customer = pd.read_csv('trainperf.csv')"
      ]
    },
    {
      "cell_type": "code",
      "execution_count": 4,
      "metadata": {
        "colab": {
          "base_uri": "https://localhost:8080/"
        },
        "id": "Z0eH-Excl6SB",
        "outputId": "4fb647ca-6195-493c-956a-568c3b16e660"
      },
      "outputs": [
        {
          "output_type": "execute_result",
          "data": {
            "text/plain": [
              "((4346, 9), (18183, 12), (4368, 10))"
            ]
          },
          "metadata": {},
          "execution_count": 4
        }
      ],
      "source": [
        "##Shape of all the data\n",
        "def shape(x):\n",
        "    return x.shape\n",
        "shape(demo),shape(loan),shape(customer)"
      ]
    },
    {
      "cell_type": "code",
      "execution_count": 5,
      "metadata": {
        "colab": {
          "base_uri": "https://localhost:8080/"
        },
        "id": "EPo7aEsMomoI",
        "outputId": "beeabbde-517c-401e-ce97-2d63c8c39ac2"
      },
      "outputs": [
        {
          "output_type": "stream",
          "name": "stdout",
          "text": [
            "<class 'pandas.core.frame.DataFrame'>\n",
            "RangeIndex: 4346 entries, 0 to 4345\n",
            "Data columns (total 9 columns):\n",
            " #   Column                      Non-Null Count  Dtype  \n",
            "---  ------                      --------------  -----  \n",
            " 0   customerid                  4346 non-null   object \n",
            " 1   birthdate                   4346 non-null   object \n",
            " 2   bank_account_type           4346 non-null   object \n",
            " 3   longitude_gps               4346 non-null   float64\n",
            " 4   latitude_gps                4346 non-null   float64\n",
            " 5   bank_name_clients           4346 non-null   object \n",
            " 6   bank_branch_clients         51 non-null     object \n",
            " 7   employment_status_clients   3698 non-null   object \n",
            " 8   level_of_education_clients  587 non-null    object \n",
            "dtypes: float64(2), object(7)\n",
            "memory usage: 305.7+ KB\n",
            "<class 'pandas.core.frame.DataFrame'>\n",
            "RangeIndex: 18183 entries, 0 to 18182\n",
            "Data columns (total 12 columns):\n",
            " #   Column           Non-Null Count  Dtype  \n",
            "---  ------           --------------  -----  \n",
            " 0   customerid       18183 non-null  object \n",
            " 1   systemloanid     18183 non-null  int64  \n",
            " 2   loannumber       18183 non-null  int64  \n",
            " 3   approveddate     18183 non-null  object \n",
            " 4   creationdate     18183 non-null  object \n",
            " 5   loanamount       18183 non-null  float64\n",
            " 6   totaldue         18183 non-null  float64\n",
            " 7   termdays         18183 non-null  int64  \n",
            " 8   closeddate       18183 non-null  object \n",
            " 9   referredby       1026 non-null   object \n",
            " 10  firstduedate     18183 non-null  object \n",
            " 11  firstrepaiddate  18183 non-null  object \n",
            "dtypes: float64(2), int64(3), object(7)\n",
            "memory usage: 1.7+ MB\n",
            "<class 'pandas.core.frame.DataFrame'>\n",
            "RangeIndex: 4368 entries, 0 to 4367\n",
            "Data columns (total 10 columns):\n",
            " #   Column         Non-Null Count  Dtype  \n",
            "---  ------         --------------  -----  \n",
            " 0   customerid     4368 non-null   object \n",
            " 1   systemloanid   4368 non-null   int64  \n",
            " 2   loannumber     4368 non-null   int64  \n",
            " 3   approveddate   4368 non-null   object \n",
            " 4   creationdate   4368 non-null   object \n",
            " 5   loanamount     4368 non-null   float64\n",
            " 6   totaldue       4368 non-null   float64\n",
            " 7   termdays       4368 non-null   int64  \n",
            " 8   referredby     587 non-null    object \n",
            " 9   good_bad_flag  4368 non-null   object \n",
            "dtypes: float64(2), int64(3), object(5)\n",
            "memory usage: 341.4+ KB\n"
          ]
        },
        {
          "output_type": "execute_result",
          "data": {
            "text/plain": [
              "(None, None, None)"
            ]
          },
          "metadata": {},
          "execution_count": 5
        }
      ],
      "source": [
        "# Details info of all the data\n",
        "def info(x):\n",
        "    return x.info()\n",
        "info(demo),info(loan),info(customer)"
      ]
    },
    {
      "cell_type": "code",
      "execution_count": 6,
      "metadata": {
        "colab": {
          "base_uri": "https://localhost:8080/"
        },
        "id": "NlQajhNjtFPb",
        "outputId": "1f927a1c-f91d-4628-a7a9-96cd31e09439"
      },
      "outputs": [
        {
          "output_type": "stream",
          "name": "stdout",
          "text": [
            "============================== \n",
            " Sum Of Missing Values\n",
            " ============================== \n",
            " bank_branch_clients           4295\n",
            "employment_status_clients      648\n",
            "level_of_education_clients    3759\n",
            "dtype: int64\n",
            "============================== \n",
            " Sum Of Missing Values\n",
            " ============================== \n",
            " referredby    17157\n",
            "dtype: int64\n",
            "============================== \n",
            " Sum Of Missing Values\n",
            " ============================== \n",
            " referredby    3781\n",
            "dtype: int64\n"
          ]
        }
      ],
      "source": [
        "##Finding All the Missing column with Sum\n",
        "def missing_values(x):\n",
        "    null_columns=x.columns[x.isnull().any()]\n",
        "    return print('====='*6,'\\n','Sum Of Missing Values''\\n','====='*6,'\\n',x[null_columns].isnull().sum())\n",
        "missing_values(demo)\n",
        "missing_values(loan)\n",
        "missing_values(customer)"
      ]
    },
    {
      "cell_type": "code",
      "execution_count": 7,
      "metadata": {
        "colab": {
          "base_uri": "https://localhost:8080/"
        },
        "id": "3zmIbmNitP38",
        "outputId": "b3a4b51b-d907-4cd8-e3c1-f008b21727a1"
      },
      "outputs": [
        {
          "output_type": "stream",
          "name": "stdout",
          "text": [
            "============================== \n",
            " Percentage Of Missing Values\n",
            " ============================== \n",
            " bank_branch_clients           98.826507\n",
            "employment_status_clients     14.910262\n",
            "level_of_education_clients    86.493327\n",
            "dtype: float64\n",
            "============================== \n",
            " Percentage Of Missing Values\n",
            " ============================== \n",
            " referredby    94.357367\n",
            "dtype: float64\n",
            "============================== \n",
            " Percentage Of Missing Values\n",
            " ============================== \n",
            " referredby    86.561355\n",
            "dtype: float64\n"
          ]
        }
      ],
      "source": [
        "#Findding the percentage of the missing values\n",
        "def percent_missing(x):\n",
        "    null_columns=x.columns[x.isnull().any()]\n",
        "    total_missing = x[null_columns].isnull().sum()\n",
        "    percentage = total_missing / len(x)*100\n",
        "    return print('====='*6,'\\n','Percentage Of Missing Values''\\n','====='*6,'\\n',percentage)\n",
        "percent_missing(demo)\n",
        "percent_missing(loan)\n",
        "percent_missing(customer)"
      ]
    },
    {
      "cell_type": "code",
      "execution_count": 8,
      "metadata": {
        "id": "WIShW_jEtUnG"
      },
      "outputs": [],
      "source": [
        "#dropping all the columns with high number of missing values\n",
        "loan.drop('referredby',axis=1,inplace=True)\n",
        "customer.drop('referredby',axis=1,inplace=True)\n",
        "demo.drop(['bank_branch_clients','level_of_education_clients'],axis=1,inplace=True)"
      ]
    },
    {
      "cell_type": "code",
      "execution_count": 9,
      "metadata": {
        "id": "r7aQES6Btc05"
      },
      "outputs": [],
      "source": [
        "\n",
        "#filling the employment_status column with 15% missing values with the mode value\n",
        "demo['employment_status_clients'].fillna(demo['employment_status_clients'].mode()[0],inplace=True)"
      ]
    },
    {
      "cell_type": "code",
      "execution_count": 10,
      "metadata": {
        "colab": {
          "base_uri": "https://localhost:8080/",
          "height": 557
        },
        "id": "4ixJZChQthCj",
        "outputId": "c7576fde-387b-4713-d70b-25a4bdddf62a"
      },
      "outputs": [
        {
          "output_type": "execute_result",
          "data": {
            "text/plain": [
              "                         customerid  systemloanid  loannumber  \\\n",
              "0  8a2a81a74ce8c05d014cfb32a0da1049     301994762          12   \n",
              "1  8a85886e54beabf90154c0a29ae757c0     301965204           2   \n",
              "2  8a8588f35438fe12015444567666018e     301966580           7   \n",
              "3  8a85890754145ace015429211b513e16     301999343           3   \n",
              "4  8a858970548359cc0154883481981866     301962360           9   \n",
              "5  8a8589f35451855401546b0738c42524     301986516           8   \n",
              "6  8a858e095c59b91b015c5e5cea3719bc     301972027           3   \n",
              "7  8a858e1158dc4d830158f7bde4f47ea7     301994428          10   \n",
              "8  8a858e185b4923b4015b4ae48d28646a     301996687           4   \n",
              "9  8a858e1d5cd58f9e015ceda4bdb63673     301981931           2   \n",
              "\n",
              "                 approveddate                creationdate  loanamount  \\\n",
              "0  2017-07-25 08:22:56.000000  2017-07-25 07:22:47.000000     30000.0   \n",
              "1  2017-07-05 17:04:41.000000  2017-07-05 16:04:18.000000     15000.0   \n",
              "2  2017-07-06 14:52:57.000000  2017-07-06 13:52:51.000000     20000.0   \n",
              "3  2017-07-27 19:00:41.000000  2017-07-27 18:00:35.000000     10000.0   \n",
              "4  2017-07-03 23:42:45.000000  2017-07-03 22:42:39.000000     40000.0   \n",
              "5  2017-07-19 21:46:24.000000  2017-07-19 20:46:18.000000     30000.0   \n",
              "6  2017-07-10 19:25:33.000000  2017-07-10 18:25:28.000000     10000.0   \n",
              "7  2017-07-24 23:42:27.000000  2017-07-24 22:42:21.000000     30000.0   \n",
              "8  2017-07-26 10:53:05.000000  2017-07-26 09:52:57.000000     10000.0   \n",
              "9  2017-07-17 13:48:42.000000  2017-07-17 12:48:35.000000     10000.0   \n",
              "\n",
              "   totaldue  termdays good_bad_flag  \n",
              "0   34500.0        30          Good  \n",
              "1   17250.0        30          Good  \n",
              "2   22250.0        15          Good  \n",
              "3   11500.0        15          Good  \n",
              "4   44000.0        30          Good  \n",
              "5   39000.0        60          Good  \n",
              "6   13000.0        30          Good  \n",
              "7   34500.0        30          Good  \n",
              "8   11500.0        15          Good  \n",
              "9   11500.0        15          Good  "
            ],
            "text/html": [
              "\n",
              "  <div id=\"df-01ae3893-c455-417a-b2dc-85e31277d40d\" class=\"colab-df-container\">\n",
              "    <div>\n",
              "<style scoped>\n",
              "    .dataframe tbody tr th:only-of-type {\n",
              "        vertical-align: middle;\n",
              "    }\n",
              "\n",
              "    .dataframe tbody tr th {\n",
              "        vertical-align: top;\n",
              "    }\n",
              "\n",
              "    .dataframe thead th {\n",
              "        text-align: right;\n",
              "    }\n",
              "</style>\n",
              "<table border=\"1\" class=\"dataframe\">\n",
              "  <thead>\n",
              "    <tr style=\"text-align: right;\">\n",
              "      <th></th>\n",
              "      <th>customerid</th>\n",
              "      <th>systemloanid</th>\n",
              "      <th>loannumber</th>\n",
              "      <th>approveddate</th>\n",
              "      <th>creationdate</th>\n",
              "      <th>loanamount</th>\n",
              "      <th>totaldue</th>\n",
              "      <th>termdays</th>\n",
              "      <th>good_bad_flag</th>\n",
              "    </tr>\n",
              "  </thead>\n",
              "  <tbody>\n",
              "    <tr>\n",
              "      <th>0</th>\n",
              "      <td>8a2a81a74ce8c05d014cfb32a0da1049</td>\n",
              "      <td>301994762</td>\n",
              "      <td>12</td>\n",
              "      <td>2017-07-25 08:22:56.000000</td>\n",
              "      <td>2017-07-25 07:22:47.000000</td>\n",
              "      <td>30000.0</td>\n",
              "      <td>34500.0</td>\n",
              "      <td>30</td>\n",
              "      <td>Good</td>\n",
              "    </tr>\n",
              "    <tr>\n",
              "      <th>1</th>\n",
              "      <td>8a85886e54beabf90154c0a29ae757c0</td>\n",
              "      <td>301965204</td>\n",
              "      <td>2</td>\n",
              "      <td>2017-07-05 17:04:41.000000</td>\n",
              "      <td>2017-07-05 16:04:18.000000</td>\n",
              "      <td>15000.0</td>\n",
              "      <td>17250.0</td>\n",
              "      <td>30</td>\n",
              "      <td>Good</td>\n",
              "    </tr>\n",
              "    <tr>\n",
              "      <th>2</th>\n",
              "      <td>8a8588f35438fe12015444567666018e</td>\n",
              "      <td>301966580</td>\n",
              "      <td>7</td>\n",
              "      <td>2017-07-06 14:52:57.000000</td>\n",
              "      <td>2017-07-06 13:52:51.000000</td>\n",
              "      <td>20000.0</td>\n",
              "      <td>22250.0</td>\n",
              "      <td>15</td>\n",
              "      <td>Good</td>\n",
              "    </tr>\n",
              "    <tr>\n",
              "      <th>3</th>\n",
              "      <td>8a85890754145ace015429211b513e16</td>\n",
              "      <td>301999343</td>\n",
              "      <td>3</td>\n",
              "      <td>2017-07-27 19:00:41.000000</td>\n",
              "      <td>2017-07-27 18:00:35.000000</td>\n",
              "      <td>10000.0</td>\n",
              "      <td>11500.0</td>\n",
              "      <td>15</td>\n",
              "      <td>Good</td>\n",
              "    </tr>\n",
              "    <tr>\n",
              "      <th>4</th>\n",
              "      <td>8a858970548359cc0154883481981866</td>\n",
              "      <td>301962360</td>\n",
              "      <td>9</td>\n",
              "      <td>2017-07-03 23:42:45.000000</td>\n",
              "      <td>2017-07-03 22:42:39.000000</td>\n",
              "      <td>40000.0</td>\n",
              "      <td>44000.0</td>\n",
              "      <td>30</td>\n",
              "      <td>Good</td>\n",
              "    </tr>\n",
              "    <tr>\n",
              "      <th>5</th>\n",
              "      <td>8a8589f35451855401546b0738c42524</td>\n",
              "      <td>301986516</td>\n",
              "      <td>8</td>\n",
              "      <td>2017-07-19 21:46:24.000000</td>\n",
              "      <td>2017-07-19 20:46:18.000000</td>\n",
              "      <td>30000.0</td>\n",
              "      <td>39000.0</td>\n",
              "      <td>60</td>\n",
              "      <td>Good</td>\n",
              "    </tr>\n",
              "    <tr>\n",
              "      <th>6</th>\n",
              "      <td>8a858e095c59b91b015c5e5cea3719bc</td>\n",
              "      <td>301972027</td>\n",
              "      <td>3</td>\n",
              "      <td>2017-07-10 19:25:33.000000</td>\n",
              "      <td>2017-07-10 18:25:28.000000</td>\n",
              "      <td>10000.0</td>\n",
              "      <td>13000.0</td>\n",
              "      <td>30</td>\n",
              "      <td>Good</td>\n",
              "    </tr>\n",
              "    <tr>\n",
              "      <th>7</th>\n",
              "      <td>8a858e1158dc4d830158f7bde4f47ea7</td>\n",
              "      <td>301994428</td>\n",
              "      <td>10</td>\n",
              "      <td>2017-07-24 23:42:27.000000</td>\n",
              "      <td>2017-07-24 22:42:21.000000</td>\n",
              "      <td>30000.0</td>\n",
              "      <td>34500.0</td>\n",
              "      <td>30</td>\n",
              "      <td>Good</td>\n",
              "    </tr>\n",
              "    <tr>\n",
              "      <th>8</th>\n",
              "      <td>8a858e185b4923b4015b4ae48d28646a</td>\n",
              "      <td>301996687</td>\n",
              "      <td>4</td>\n",
              "      <td>2017-07-26 10:53:05.000000</td>\n",
              "      <td>2017-07-26 09:52:57.000000</td>\n",
              "      <td>10000.0</td>\n",
              "      <td>11500.0</td>\n",
              "      <td>15</td>\n",
              "      <td>Good</td>\n",
              "    </tr>\n",
              "    <tr>\n",
              "      <th>9</th>\n",
              "      <td>8a858e1d5cd58f9e015ceda4bdb63673</td>\n",
              "      <td>301981931</td>\n",
              "      <td>2</td>\n",
              "      <td>2017-07-17 13:48:42.000000</td>\n",
              "      <td>2017-07-17 12:48:35.000000</td>\n",
              "      <td>10000.0</td>\n",
              "      <td>11500.0</td>\n",
              "      <td>15</td>\n",
              "      <td>Good</td>\n",
              "    </tr>\n",
              "  </tbody>\n",
              "</table>\n",
              "</div>\n",
              "    <div class=\"colab-df-buttons\">\n",
              "\n",
              "  <div class=\"colab-df-container\">\n",
              "    <button class=\"colab-df-convert\" onclick=\"convertToInteractive('df-01ae3893-c455-417a-b2dc-85e31277d40d')\"\n",
              "            title=\"Convert this dataframe to an interactive table.\"\n",
              "            style=\"display:none;\">\n",
              "\n",
              "  <svg xmlns=\"http://www.w3.org/2000/svg\" height=\"24px\" viewBox=\"0 -960 960 960\">\n",
              "    <path d=\"M120-120v-720h720v720H120Zm60-500h600v-160H180v160Zm220 220h160v-160H400v160Zm0 220h160v-160H400v160ZM180-400h160v-160H180v160Zm440 0h160v-160H620v160ZM180-180h160v-160H180v160Zm440 0h160v-160H620v160Z\"/>\n",
              "  </svg>\n",
              "    </button>\n",
              "\n",
              "  <style>\n",
              "    .colab-df-container {\n",
              "      display:flex;\n",
              "      gap: 12px;\n",
              "    }\n",
              "\n",
              "    .colab-df-convert {\n",
              "      background-color: #E8F0FE;\n",
              "      border: none;\n",
              "      border-radius: 50%;\n",
              "      cursor: pointer;\n",
              "      display: none;\n",
              "      fill: #1967D2;\n",
              "      height: 32px;\n",
              "      padding: 0 0 0 0;\n",
              "      width: 32px;\n",
              "    }\n",
              "\n",
              "    .colab-df-convert:hover {\n",
              "      background-color: #E2EBFA;\n",
              "      box-shadow: 0px 1px 2px rgba(60, 64, 67, 0.3), 0px 1px 3px 1px rgba(60, 64, 67, 0.15);\n",
              "      fill: #174EA6;\n",
              "    }\n",
              "\n",
              "    .colab-df-buttons div {\n",
              "      margin-bottom: 4px;\n",
              "    }\n",
              "\n",
              "    [theme=dark] .colab-df-convert {\n",
              "      background-color: #3B4455;\n",
              "      fill: #D2E3FC;\n",
              "    }\n",
              "\n",
              "    [theme=dark] .colab-df-convert:hover {\n",
              "      background-color: #434B5C;\n",
              "      box-shadow: 0px 1px 3px 1px rgba(0, 0, 0, 0.15);\n",
              "      filter: drop-shadow(0px 1px 2px rgba(0, 0, 0, 0.3));\n",
              "      fill: #FFFFFF;\n",
              "    }\n",
              "  </style>\n",
              "\n",
              "    <script>\n",
              "      const buttonEl =\n",
              "        document.querySelector('#df-01ae3893-c455-417a-b2dc-85e31277d40d button.colab-df-convert');\n",
              "      buttonEl.style.display =\n",
              "        google.colab.kernel.accessAllowed ? 'block' : 'none';\n",
              "\n",
              "      async function convertToInteractive(key) {\n",
              "        const element = document.querySelector('#df-01ae3893-c455-417a-b2dc-85e31277d40d');\n",
              "        const dataTable =\n",
              "          await google.colab.kernel.invokeFunction('convertToInteractive',\n",
              "                                                    [key], {});\n",
              "        if (!dataTable) return;\n",
              "\n",
              "        const docLinkHtml = 'Like what you see? Visit the ' +\n",
              "          '<a target=\"_blank\" href=https://colab.research.google.com/notebooks/data_table.ipynb>data table notebook</a>'\n",
              "          + ' to learn more about interactive tables.';\n",
              "        element.innerHTML = '';\n",
              "        dataTable['output_type'] = 'display_data';\n",
              "        await google.colab.output.renderOutput(dataTable, element);\n",
              "        const docLink = document.createElement('div');\n",
              "        docLink.innerHTML = docLinkHtml;\n",
              "        element.appendChild(docLink);\n",
              "      }\n",
              "    </script>\n",
              "  </div>\n",
              "\n",
              "\n",
              "<div id=\"df-04ccac3e-570b-477a-a34e-be1585e42c40\">\n",
              "  <button class=\"colab-df-quickchart\" onclick=\"quickchart('df-04ccac3e-570b-477a-a34e-be1585e42c40')\"\n",
              "            title=\"Suggest charts\"\n",
              "            style=\"display:none;\">\n",
              "\n",
              "<svg xmlns=\"http://www.w3.org/2000/svg\" height=\"24px\"viewBox=\"0 0 24 24\"\n",
              "     width=\"24px\">\n",
              "    <g>\n",
              "        <path d=\"M19 3H5c-1.1 0-2 .9-2 2v14c0 1.1.9 2 2 2h14c1.1 0 2-.9 2-2V5c0-1.1-.9-2-2-2zM9 17H7v-7h2v7zm4 0h-2V7h2v10zm4 0h-2v-4h2v4z\"/>\n",
              "    </g>\n",
              "</svg>\n",
              "  </button>\n",
              "\n",
              "<style>\n",
              "  .colab-df-quickchart {\n",
              "      --bg-color: #E8F0FE;\n",
              "      --fill-color: #1967D2;\n",
              "      --hover-bg-color: #E2EBFA;\n",
              "      --hover-fill-color: #174EA6;\n",
              "      --disabled-fill-color: #AAA;\n",
              "      --disabled-bg-color: #DDD;\n",
              "  }\n",
              "\n",
              "  [theme=dark] .colab-df-quickchart {\n",
              "      --bg-color: #3B4455;\n",
              "      --fill-color: #D2E3FC;\n",
              "      --hover-bg-color: #434B5C;\n",
              "      --hover-fill-color: #FFFFFF;\n",
              "      --disabled-bg-color: #3B4455;\n",
              "      --disabled-fill-color: #666;\n",
              "  }\n",
              "\n",
              "  .colab-df-quickchart {\n",
              "    background-color: var(--bg-color);\n",
              "    border: none;\n",
              "    border-radius: 50%;\n",
              "    cursor: pointer;\n",
              "    display: none;\n",
              "    fill: var(--fill-color);\n",
              "    height: 32px;\n",
              "    padding: 0;\n",
              "    width: 32px;\n",
              "  }\n",
              "\n",
              "  .colab-df-quickchart:hover {\n",
              "    background-color: var(--hover-bg-color);\n",
              "    box-shadow: 0 1px 2px rgba(60, 64, 67, 0.3), 0 1px 3px 1px rgba(60, 64, 67, 0.15);\n",
              "    fill: var(--button-hover-fill-color);\n",
              "  }\n",
              "\n",
              "  .colab-df-quickchart-complete:disabled,\n",
              "  .colab-df-quickchart-complete:disabled:hover {\n",
              "    background-color: var(--disabled-bg-color);\n",
              "    fill: var(--disabled-fill-color);\n",
              "    box-shadow: none;\n",
              "  }\n",
              "\n",
              "  .colab-df-spinner {\n",
              "    border: 2px solid var(--fill-color);\n",
              "    border-color: transparent;\n",
              "    border-bottom-color: var(--fill-color);\n",
              "    animation:\n",
              "      spin 1s steps(1) infinite;\n",
              "  }\n",
              "\n",
              "  @keyframes spin {\n",
              "    0% {\n",
              "      border-color: transparent;\n",
              "      border-bottom-color: var(--fill-color);\n",
              "      border-left-color: var(--fill-color);\n",
              "    }\n",
              "    20% {\n",
              "      border-color: transparent;\n",
              "      border-left-color: var(--fill-color);\n",
              "      border-top-color: var(--fill-color);\n",
              "    }\n",
              "    30% {\n",
              "      border-color: transparent;\n",
              "      border-left-color: var(--fill-color);\n",
              "      border-top-color: var(--fill-color);\n",
              "      border-right-color: var(--fill-color);\n",
              "    }\n",
              "    40% {\n",
              "      border-color: transparent;\n",
              "      border-right-color: var(--fill-color);\n",
              "      border-top-color: var(--fill-color);\n",
              "    }\n",
              "    60% {\n",
              "      border-color: transparent;\n",
              "      border-right-color: var(--fill-color);\n",
              "    }\n",
              "    80% {\n",
              "      border-color: transparent;\n",
              "      border-right-color: var(--fill-color);\n",
              "      border-bottom-color: var(--fill-color);\n",
              "    }\n",
              "    90% {\n",
              "      border-color: transparent;\n",
              "      border-bottom-color: var(--fill-color);\n",
              "    }\n",
              "  }\n",
              "</style>\n",
              "\n",
              "  <script>\n",
              "    async function quickchart(key) {\n",
              "      const quickchartButtonEl =\n",
              "        document.querySelector('#' + key + ' button');\n",
              "      quickchartButtonEl.disabled = true;  // To prevent multiple clicks.\n",
              "      quickchartButtonEl.classList.add('colab-df-spinner');\n",
              "      try {\n",
              "        const charts = await google.colab.kernel.invokeFunction(\n",
              "            'suggestCharts', [key], {});\n",
              "      } catch (error) {\n",
              "        console.error('Error during call to suggestCharts:', error);\n",
              "      }\n",
              "      quickchartButtonEl.classList.remove('colab-df-spinner');\n",
              "      quickchartButtonEl.classList.add('colab-df-quickchart-complete');\n",
              "    }\n",
              "    (() => {\n",
              "      let quickchartButtonEl =\n",
              "        document.querySelector('#df-04ccac3e-570b-477a-a34e-be1585e42c40 button');\n",
              "      quickchartButtonEl.style.display =\n",
              "        google.colab.kernel.accessAllowed ? 'block' : 'none';\n",
              "    })();\n",
              "  </script>\n",
              "</div>\n",
              "\n",
              "    </div>\n",
              "  </div>\n"
            ],
            "application/vnd.google.colaboratory.intrinsic+json": {
              "type": "dataframe",
              "variable_name": "customer",
              "summary": "{\n  \"name\": \"customer\",\n  \"rows\": 4368,\n  \"fields\": [\n    {\n      \"column\": \"customerid\",\n      \"properties\": {\n        \"dtype\": \"string\",\n        \"num_unique_values\": 4368,\n        \"samples\": [\n          \"8a858e255557edfe01557510da606263\",\n          \"8a858eee5872716901587644c4391794\",\n          \"8a858f055c831d5b015c87192bf35ab2\"\n        ],\n        \"semantic_type\": \"\",\n        \"description\": \"\"\n      }\n    },\n    {\n      \"column\": \"systemloanid\",\n      \"properties\": {\n        \"dtype\": \"number\",\n        \"std\": 13431,\n        \"min\": 301958485,\n        \"max\": 302004050,\n        \"num_unique_values\": 4368,\n        \"samples\": [\n          301961226,\n          301995414,\n          301970251\n        ],\n        \"semantic_type\": \"\",\n        \"description\": \"\"\n      }\n    },\n    {\n      \"column\": \"loannumber\",\n      \"properties\": {\n        \"dtype\": \"number\",\n        \"std\": 3,\n        \"min\": 2,\n        \"max\": 27,\n        \"num_unique_values\": 23,\n        \"samples\": [\n          14,\n          13,\n          12\n        ],\n        \"semantic_type\": \"\",\n        \"description\": \"\"\n      }\n    },\n    {\n      \"column\": \"approveddate\",\n      \"properties\": {\n        \"dtype\": \"object\",\n        \"num_unique_values\": 4362,\n        \"samples\": [\n          \"2017-07-10 14:58:47.000000\",\n          \"2017-07-04 13:20:27.000000\",\n          \"2017-07-11 14:40:10.000000\"\n        ],\n        \"semantic_type\": \"\",\n        \"description\": \"\"\n      }\n    },\n    {\n      \"column\": \"creationdate\",\n      \"properties\": {\n        \"dtype\": \"object\",\n        \"num_unique_values\": 4364,\n        \"samples\": [\n          \"2017-07-20 14:49:33.000000\",\n          \"2017-07-17 23:02:40.000000\",\n          \"2017-07-06 08:22:07.000000\"\n        ],\n        \"semantic_type\": \"\",\n        \"description\": \"\"\n      }\n    },\n    {\n      \"column\": \"loanamount\",\n      \"properties\": {\n        \"dtype\": \"number\",\n        \"std\": 10749.694570607528,\n        \"min\": 10000.0,\n        \"max\": 60000.0,\n        \"num_unique_values\": 10,\n        \"samples\": [\n          45000.0,\n          15000.0,\n          25000.0\n        ],\n        \"semantic_type\": \"\",\n        \"description\": \"\"\n      }\n    },\n    {\n      \"column\": \"totaldue\",\n      \"properties\": {\n        \"dtype\": \"number\",\n        \"std\": 11943.510415671148,\n        \"min\": 10000.0,\n        \"max\": 68100.0,\n        \"num_unique_values\": 47,\n        \"samples\": [\n          10000.0,\n          62700.0,\n          38500.0\n        ],\n        \"semantic_type\": \"\",\n        \"description\": \"\"\n      }\n    },\n    {\n      \"column\": \"termdays\",\n      \"properties\": {\n        \"dtype\": \"number\",\n        \"std\": 11,\n        \"min\": 15,\n        \"max\": 90,\n        \"num_unique_values\": 4,\n        \"samples\": [\n          15,\n          90,\n          30\n        ],\n        \"semantic_type\": \"\",\n        \"description\": \"\"\n      }\n    },\n    {\n      \"column\": \"good_bad_flag\",\n      \"properties\": {\n        \"dtype\": \"category\",\n        \"num_unique_values\": 2,\n        \"samples\": [\n          \"Bad\",\n          \"Good\"\n        ],\n        \"semantic_type\": \"\",\n        \"description\": \"\"\n      }\n    }\n  ]\n}"
            }
          },
          "metadata": {},
          "execution_count": 10
        }
      ],
      "source": [
        "customer.head(10)"
      ]
    },
    {
      "cell_type": "code",
      "execution_count": 11,
      "metadata": {
        "id": "I3zCi16mtlNj"
      },
      "outputs": [],
      "source": [
        "# Remove the time component from the 'birthdate' column\n",
        "demo['birthdate'] = demo['birthdate'].str.split(' ').str[0]\n",
        "\n",
        "# Parse the 'birthdate' column as datetime with the updated format\n",
        "demo['birthdate'] = pd.to_datetime(demo['birthdate'], format='%Y-%m-%d')\n",
        "\n",
        "# Extract the year from the 'birthdate' column\n",
        "demo['year'] = demo['birthdate'].dt.year\n",
        "\n",
        "# Calculate the age\n",
        "demo['Age'] = 2024 - demo['year']\n"
      ]
    },
    {
      "cell_type": "code",
      "execution_count": 12,
      "metadata": {
        "id": "kE0Lcl_mtoAK"
      },
      "outputs": [],
      "source": [
        "# Remove the time component from the date columns\n",
        "customer['approveddate'] = customer['approveddate'].str.split(' ').str[0]\n",
        "customer['creationdate'] = customer['creationdate'].str.split(' ').str[0]\n",
        "loan['closeddate'] = loan['closeddate'].str.split(' ').str[0]\n",
        "loan['firstduedate'] = loan['firstduedate'].str.split(' ').str[0]\n",
        "loan['firstrepaiddate'] = loan['firstrepaiddate'].str.split(' ').str[0]\n",
        "\n",
        "# Parse the date columns as datetime with the updated format\n",
        "customer['approveddate'] = pd.to_datetime(customer['approveddate'], format='%Y-%m-%d')\n",
        "customer['creationdate'] = pd.to_datetime(customer['creationdate'], format='%Y-%m-%d')\n",
        "loan['closeddate'] = pd.to_datetime(loan['closeddate'], format='%Y-%m-%d')\n",
        "loan['firstduedate'] = pd.to_datetime(loan['firstduedate'], format='%Y-%m-%d')\n",
        "loan['firstrepaiddate'] = pd.to_datetime(loan['firstrepaiddate'], format='%Y-%m-%d')\n"
      ]
    },
    {
      "cell_type": "code",
      "execution_count": 13,
      "metadata": {
        "id": "Nt7C9J9OtqTp"
      },
      "outputs": [],
      "source": [
        "customer['Approved year']=customer['approveddate'].dt.year\n",
        "customer['Approved month']=customer['approveddate'].dt.month\n",
        "customer['Approved day']=customer['approveddate'].dt.day\n",
        "customer['Approved dayofweek']=customer['approveddate'].dt.dayofweek\n",
        "\n",
        "customer['creation year']=customer['creationdate'].dt.year\n",
        "customer['creation month']=customer['creationdate'].dt.month\n",
        "customer['creation day']=customer['creationdate'].dt.day\n",
        "customer['creation dayofweek']=customer['creationdate'].dt.dayofweek"
      ]
    },
    {
      "cell_type": "code",
      "execution_count": 14,
      "metadata": {
        "id": "DuP5C9jKttOV"
      },
      "outputs": [],
      "source": [
        "loan['closed year']=loan['closeddate'].dt.year\n",
        "loan['closed month']=loan['closeddate'].dt.month\n",
        "loan['closed day']=loan['closeddate'].dt.day\n",
        "loan['closed dayofweek']=loan['closeddate'].dt.dayofweek\n",
        "\n",
        "loan['firstdue year']=loan['firstduedate'].dt.year\n",
        "loan['firstdue month']=loan['firstduedate'].dt.month\n",
        "loan['firstdue day']=loan['firstduedate'].dt.day\n",
        "loan['firstdue dayofweek']=loan['firstduedate'].dt.dayofweek\n",
        "\n",
        "loan['firstrepaid year']=loan['firstrepaiddate'].dt.year\n",
        "loan['firstrepaid month']=loan['firstrepaiddate'].dt.month\n",
        "loan['firstrepaid day']=loan['firstrepaiddate'].dt.day\n",
        "loan['firstrepaid dayofweek']=loan['firstrepaiddate'].dt.dayofweek"
      ]
    },
    {
      "cell_type": "code",
      "execution_count": null,
      "metadata": {
        "id": "-py0Hrx8uG50"
      },
      "outputs": [],
      "source": [
        "def unique_values(x):\n",
        "    unique = x.nunique()\n",
        "    return print('====='*6,'\\n','Sum of unique values''\\n','====='*6,'\\n',unique)\n",
        "unique_values(demo)\n",
        "unique_values(loan)\n",
        "unique_values(customer)"
      ]
    },
    {
      "cell_type": "code",
      "execution_count": 16,
      "metadata": {
        "id": "jlBtgM0RuJzL"
      },
      "outputs": [],
      "source": [
        "for col in customer.columns:\n",
        "    if len(customer[col].unique()) == 1:\n",
        "        customer.drop(col,inplace=True,axis=1)"
      ]
    },
    {
      "cell_type": "code",
      "execution_count": null,
      "metadata": {
        "id": "4jx4GA_uuMhB"
      },
      "outputs": [],
      "source": [
        "Encode = {\"Approved dayofweek\":     {0:'Monday', 1: 'Tuesday',2:'Wednesday',3:'Thursday',4:'Friday',5:'Saturday',6:'Sunday'},\n",
        "          \"creation dayofweek\":     {0:'Monday', 1: 'Tuesday',2:'Wednesday',3:'Thursday',4:'Friday',5:'Saturday',6:'Sunday'}\n",
        "          }\n",
        "customer.replace(Encode, inplace=True)\n",
        "customer.head()"
      ]
    },
    {
      "cell_type": "code",
      "execution_count": null,
      "metadata": {
        "id": "bXeET8o3uRhO"
      },
      "outputs": [],
      "source": [
        "Encode = {\"firstrepaid dayofweek\":     {0:'Monday', 1: 'Tuesday',2:'Wednesday',3:'Thursday',4:'Friday',5:'Saturday',6:'Sunday'},\n",
        "          \"firstdue dayofweek\":     {0:'Monday', 1: 'Tuesday',2:'Wednesday',3:'Thursday',4:'Friday',5:'Saturday',6:'Sunday'},\n",
        "          \"closed dayofweek\":     {0:'Monday', 1: 'Tuesday',2:'Wednesday',3:'Thursday',4:'Friday',5:'Saturday',6:'Sunday'},\n",
        "          \"closed month\":     {1:'January', 2: 'Feburary',3:'March',4:'April',5:'May',6:'June',7:'July',8:'August',9:'September',10:'October',11:'November',12:'December'},\n",
        "          \"firstrepaid month\":     {1:'January', 2: 'Feburary',3:'March',4:'April',5:'May',6:'June',7:'July',8:'August',9:'September',10:'October',11:'November',12:'December'},\n",
        "          \"firstdue month\":     {1:'January', 2: 'Feburary',3:'March',4:'April',5:'May',6:'June',7:'July',8:'August',9:'September',10:'October',11:'November',12:'December'}\n",
        "          }\n",
        "loan.replace(Encode, inplace=True)\n",
        "loan.head()\n",
        "loan.head()"
      ]
    },
    {
      "cell_type": "code",
      "execution_count": null,
      "metadata": {
        "id": "pxSXX5BguUfS"
      },
      "outputs": [],
      "source": [
        "demo.head()"
      ]
    },
    {
      "cell_type": "code",
      "execution_count": 21,
      "metadata": {
        "id": "d3rfJ-gMuXKR"
      },
      "outputs": [],
      "source": [
        "customer_demo = customer.merge(demo,how='inner',on='customerid',)"
      ]
    },
    {
      "cell_type": "code",
      "execution_count": null,
      "metadata": {
        "id": "QoPSyidAuaFP"
      },
      "outputs": [],
      "source": [
        "customer_demo"
      ]
    },
    {
      "cell_type": "code",
      "execution_count": 23,
      "metadata": {
        "id": "Ntd-mdpFucvq"
      },
      "outputs": [],
      "source": [
        "loan_demo = loan.merge(demo,how='inner',on='customerid')"
      ]
    },
    {
      "cell_type": "code",
      "execution_count": 24,
      "metadata": {
        "id": "JszavAI7uiH5"
      },
      "outputs": [],
      "source": [
        "data = customer_demo.merge(loan_demo,how='outer',on='customerid')"
      ]
    },
    {
      "cell_type": "code",
      "execution_count": 25,
      "metadata": {
        "id": "MCQzD5h4ukTo"
      },
      "outputs": [],
      "source": [
        "loan_demo.to_csv('loan_demo.csv',index=False)"
      ]
    },
    {
      "cell_type": "code",
      "execution_count": 26,
      "metadata": {
        "id": "6DzDhFcZum-Q"
      },
      "outputs": [],
      "source": [
        "customer_demo.to_csv('customer_demo.csv',index=False)"
      ]
    },
    {
      "cell_type": "code",
      "source": [
        "data.to_csv('data.csv', index=False)"
      ],
      "metadata": {
        "id": "bzmd4BoB7Bwf"
      },
      "execution_count": 30,
      "outputs": []
    },
    {
      "cell_type": "code",
      "execution_count": 27,
      "metadata": {
        "colab": {
          "base_uri": "https://localhost:8080/"
        },
        "id": "3RZpQxKxupFz",
        "outputId": "718257b5-a185-4495-8d24-0e51f77f24c9"
      },
      "outputs": [
        {
          "output_type": "execute_result",
          "data": {
            "text/plain": [
              "(18183, 23)"
            ]
          },
          "metadata": {},
          "execution_count": 27
        }
      ],
      "source": [
        "loan.shape"
      ]
    },
    {
      "cell_type": "code",
      "execution_count": 28,
      "metadata": {
        "colab": {
          "base_uri": "https://localhost:8080/"
        },
        "id": "bqLuLlwCurOJ",
        "outputId": "fa0193f0-0155-4ba1-bca7-7c6e794cf822"
      },
      "outputs": [
        {
          "output_type": "execute_result",
          "data": {
            "text/plain": [
              "(13693, 31)"
            ]
          },
          "metadata": {},
          "execution_count": 28
        }
      ],
      "source": [
        "loan_demo.shape"
      ]
    },
    {
      "cell_type": "code",
      "execution_count": null,
      "metadata": {
        "id": "EFGkEs997lDb"
      },
      "outputs": [],
      "source": [
        "data.tail()"
      ]
    },
    {
      "cell_type": "code",
      "execution_count": null,
      "metadata": {
        "colab": {
          "base_uri": "https://localhost:8080/"
        },
        "id": "_pojyk4x-F8q",
        "outputId": "2d6a84f9-79b1-4453-f4ab-05d0b630aff7"
      },
      "outputs": [
        {
          "name": "stdout",
          "output_type": "stream",
          "text": [
            "<class 'pandas.core.frame.DataFrame'>\n",
            "RangeIndex: 13738 entries, 0 to 13737\n",
            "Data columns (total 51 columns):\n",
            " #   Column                       Non-Null Count  Dtype         \n",
            "---  ------                       --------------  -----         \n",
            " 0   customerid                   13738 non-null  object        \n",
            " 1   systemloanid_x               13738 non-null  int64         \n",
            " 2   loannumber_x                 13738 non-null  int64         \n",
            " 3   approveddate_x               13738 non-null  datetime64[ns]\n",
            " 4   creationdate_x               13738 non-null  datetime64[ns]\n",
            " 5   loanamount_x                 13738 non-null  float64       \n",
            " 6   totaldue_x                   13738 non-null  float64       \n",
            " 7   termdays_x                   13738 non-null  int64         \n",
            " 8   good_bad_flag                13738 non-null  object        \n",
            " 9   Approved day                 13738 non-null  int32         \n",
            " 10  Approved dayofweek           13738 non-null  object        \n",
            " 11  creation day                 13738 non-null  int32         \n",
            " 12  creation dayofweek           13738 non-null  object        \n",
            " 13  birthdate_x                  13738 non-null  datetime64[ns]\n",
            " 14  bank_account_type_x          13738 non-null  object        \n",
            " 15  longitude_gps_x              13738 non-null  float64       \n",
            " 16  latitude_gps_x               13738 non-null  float64       \n",
            " 17  bank_name_clients_x          13738 non-null  object        \n",
            " 18  employment_status_clients_x  13738 non-null  object        \n",
            " 19  year_x                       13738 non-null  int32         \n",
            " 20  Age_x                        13738 non-null  int32         \n",
            " 21  systemloanid_y               13733 non-null  float64       \n",
            " 22  loannumber_y                 13733 non-null  float64       \n",
            " 23  approveddate_y               13733 non-null  object        \n",
            " 24  creationdate_y               13733 non-null  object        \n",
            " 25  loanamount_y                 13733 non-null  float64       \n",
            " 26  totaldue_y                   13733 non-null  float64       \n",
            " 27  termdays_y                   13733 non-null  float64       \n",
            " 28  closeddate                   13733 non-null  datetime64[ns]\n",
            " 29  firstduedate                 13733 non-null  datetime64[ns]\n",
            " 30  firstrepaiddate              13733 non-null  datetime64[ns]\n",
            " 31  closed year                  13733 non-null  float64       \n",
            " 32  closed month                 13733 non-null  object        \n",
            " 33  closed day                   13733 non-null  float64       \n",
            " 34  closed dayofweek             13733 non-null  object        \n",
            " 35  firstdue year                13733 non-null  float64       \n",
            " 36  firstdue month               13733 non-null  object        \n",
            " 37  firstdue day                 13733 non-null  float64       \n",
            " 38  firstdue dayofweek           13733 non-null  object        \n",
            " 39  firstrepaid year             13733 non-null  float64       \n",
            " 40  firstrepaid month            13733 non-null  object        \n",
            " 41  firstrepaid day              13733 non-null  float64       \n",
            " 42  firstrepaid dayofweek        13733 non-null  object        \n",
            " 43  birthdate_y                  13733 non-null  datetime64[ns]\n",
            " 44  bank_account_type_y          13733 non-null  object        \n",
            " 45  longitude_gps_y              13733 non-null  float64       \n",
            " 46  latitude_gps_y               13733 non-null  float64       \n",
            " 47  bank_name_clients_y          13733 non-null  object        \n",
            " 48  employment_status_clients_y  13733 non-null  object        \n",
            " 49  year_y                       13733 non-null  float64       \n",
            " 50  Age_y                        13733 non-null  float64       \n",
            "dtypes: datetime64[ns](7), float64(19), int32(4), int64(3), object(18)\n",
            "memory usage: 5.1+ MB\n"
          ]
        }
      ],
      "source": [
        "data.info()"
      ]
    },
    {
      "cell_type": "code",
      "execution_count": null,
      "metadata": {
        "colab": {
          "background_save": true
        },
        "id": "LTOOqb-7DD4o"
      },
      "outputs": [],
      "source": [
        "# Drop any rows with missing values\n",
        "data.dropna(inplace=True)\n",
        "\n",
        "# Separate features (X) and target variable (y)\n",
        "X = data.drop(columns=['good_bad_flag'])\n",
        "y = data['good_bad_flag']\n",
        "\n",
        "\n",
        "# Split the data into training and testing sets\n",
        "from sklearn.model_selection import train_test_split\n",
        "X_train, X_test, y_train, y_test = train_test_split(X, y, test_size=0.3, random_state=42)\n",
        "\n",
        "# Feature scaling\n",
        "from sklearn.preprocessing import StandardScaler\n",
        "scaler = StandardScaler()\n",
        "X_train_scaled = scaler.fit_transform(X_train)\n",
        "X_test_scaled = scaler.transform(X_test)\n"
      ]
    },
    {
      "cell_type": "code",
      "source": [
        "!apt-get install -y git\n"
      ],
      "metadata": {
        "colab": {
          "base_uri": "https://localhost:8080/"
        },
        "id": "0TfBUPrRBwDf",
        "outputId": "ee78e6e8-0de6-468a-8685-73cb53c2e13e"
      },
      "execution_count": 45,
      "outputs": [
        {
          "output_type": "stream",
          "name": "stdout",
          "text": [
            "Reading package lists... Done\n",
            "Building dependency tree... Done\n",
            "Reading state information... Done\n",
            "git is already the newest version (1:2.34.1-1ubuntu1.10).\n",
            "0 upgraded, 0 newly installed, 0 to remove and 45 not upgraded.\n"
          ]
        }
      ]
    },
    {
      "cell_type": "code",
      "source": [
        "!git init\n"
      ],
      "metadata": {
        "colab": {
          "base_uri": "https://localhost:8080/"
        },
        "id": "grDqfeTHCz6O",
        "outputId": "82714316-5dc6-4ef3-edb4-f9fd6a8bf5f5"
      },
      "execution_count": 46,
      "outputs": [
        {
          "output_type": "stream",
          "name": "stdout",
          "text": [
            "Reinitialized existing Git repository in /content/.git/\n"
          ]
        }
      ]
    },
    {
      "cell_type": "code",
      "source": [
        "!git config --global user.email \"digitechconsults@gmail.com\"\n",
        "!git config --global user.name \"shakombo\""
      ],
      "metadata": {
        "id": "9crToy9TGt8_"
      },
      "execution_count": 47,
      "outputs": []
    },
    {
      "cell_type": "code",
      "source": [
        "!git remote add origin https://github.com/shakombo/AI-ML-Capstone-project-Refactory.git\n"
      ],
      "metadata": {
        "colab": {
          "base_uri": "https://localhost:8080/"
        },
        "id": "R-q2-JjbDkC1",
        "outputId": "a112c9d1-ae17-480b-f19d-5e22027cb03d"
      },
      "execution_count": 48,
      "outputs": [
        {
          "output_type": "stream",
          "name": "stdout",
          "text": [
            "error: remote origin already exists.\n"
          ]
        }
      ]
    },
    {
      "cell_type": "code",
      "source": [
        "!git add .\n"
      ],
      "metadata": {
        "id": "w6l5Y4P_Do3t"
      },
      "execution_count": 49,
      "outputs": []
    },
    {
      "cell_type": "code",
      "source": [
        "!git commit -m \"Data cleaning for laons data. Downlaod the data.csv file with the merged datasets\"\n"
      ],
      "metadata": {
        "colab": {
          "base_uri": "https://localhost:8080/"
        },
        "id": "Ysl3NTlpDxHg",
        "outputId": "8b8404dd-e8d5-4284-a02d-510cf5757b37"
      },
      "execution_count": 50,
      "outputs": [
        {
          "output_type": "stream",
          "name": "stdout",
          "text": [
            "On branch master\n",
            "nothing to commit, working tree clean\n"
          ]
        }
      ]
    },
    {
      "cell_type": "code",
      "source": [
        "!git push origin HEAD:shakomboloans\n"
      ],
      "metadata": {
        "colab": {
          "base_uri": "https://localhost:8080/"
        },
        "id": "IlsYv0T2EPQl",
        "outputId": "c894b33a-d7c4-4d48-a6b1-2e41d8e4cd6c"
      },
      "execution_count": 51,
      "outputs": [
        {
          "output_type": "stream",
          "name": "stdout",
          "text": [
            "fatal: could not read Username for 'https://github.com': No such device or address\n"
          ]
        }
      ]
    }
  ],
  "metadata": {
    "colab": {
      "provenance": []
    },
    "kernelspec": {
      "display_name": "Python 3",
      "name": "python3"
    },
    "language_info": {
      "name": "python"
    }
  },
  "nbformat": 4,
  "nbformat_minor": 0
}
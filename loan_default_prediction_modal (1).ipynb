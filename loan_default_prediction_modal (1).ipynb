{
  "nbformat": 4,
  "nbformat_minor": 0,
  "metadata": {
    "colab": {
      "provenance": []
    },
    "kernelspec": {
      "name": "python3",
      "display_name": "Python 3"
    },
    "language_info": {
      "name": "python"
    }
  },
  "cells": [
    {
      "cell_type": "code",
      "execution_count": 103,
      "metadata": {
        "colab": {
          "base_uri": "https://localhost:8080/"
        },
        "id": "f6O8pslVGbFd",
        "outputId": "088cc682-be78-489e-ed78-59cc52ebf284"
      },
      "outputs": [
        {
          "output_type": "stream",
          "name": "stdout",
          "text": [
            "                         customerid                   birthdate  \\\n",
            "0  8a858e135cb22031015cbafc76964ebd  1973-10-10 00:00:00.000000   \n",
            "1  8a858e275c7ea5ec015c82482d7c3996  1986-01-21 00:00:00.000000   \n",
            "2  8a858e5b5bd99460015bdc95cd485634  1987-04-01 00:00:00.000000   \n",
            "3  8a858e5b5bd99460015bdc95cd485634  1987-04-01 00:00:00.000000   \n",
            "4  8a858e5b5bd99460015bdc95cd485634  1987-04-01 00:00:00.000000   \n",
            "\n",
            "  bank_account_type  longitude_gps  latitude_gps bank_name_clients  \\\n",
            "0           Savings       3.319219      6.528604           GT Bank   \n",
            "1           Savings       3.325598      7.119403     Sterling Bank   \n",
            "2           Savings       5.746100      5.563174     Fidelity Bank   \n",
            "3           Savings       5.746100      5.563174     Fidelity Bank   \n",
            "4           Savings       5.746100      5.563174     Fidelity Bank   \n",
            "\n",
            "  bank_branch_clients employment_status_clients level_of_education_clients  \\\n",
            "0                 NaN                       NaN                        NaN   \n",
            "1                 NaN                 Permanent                        NaN   \n",
            "2                 NaN                       NaN                        NaN   \n",
            "3                 NaN                       NaN                        NaN   \n",
            "4                 NaN                       NaN                        NaN   \n",
            "\n",
            "   systemloanid_current  ...  loannumber_previous       approveddate_previous  \\\n",
            "0           301964962.0  ...                  1.0  2017-06-19 17:55:26.000000   \n",
            "1           301972172.0  ...                  1.0  2017-06-07 12:47:30.000000   \n",
            "2           301976271.0  ...                  3.0  2017-06-08 11:49:34.000000   \n",
            "3           301976271.0  ...                  1.0  2017-05-08 11:07:01.000000   \n",
            "4           301976271.0  ...                  2.0  2017-05-27 17:10:41.000000   \n",
            "\n",
            "        creationdate_previous  loanamount_previous  totaldue_previous  \\\n",
            "0  2017-06-19 16:54:19.000000              10000.0            11500.0   \n",
            "1  2017-06-07 11:46:22.000000              10000.0            13000.0   \n",
            "2  2017-06-08 10:49:27.000000              10000.0            13000.0   \n",
            "3  2017-05-08 10:06:40.000000              10000.0            11500.0   \n",
            "4  2017-05-27 16:10:34.000000              10000.0            11500.0   \n",
            "\n",
            "   termdays_previous                  closeddate  \\\n",
            "0               15.0  2017-07-04 18:09:47.000000   \n",
            "1               30.0  2017-07-10 08:52:54.000000   \n",
            "2               30.0  2017-07-11 10:12:20.000000   \n",
            "3               15.0  2017-05-27 13:02:53.000000   \n",
            "4               15.0  2017-06-08 11:13:50.000000   \n",
            "\n",
            "                referredby_previous                firstduedate  \\\n",
            "0  8a858899538ddb8e0153a780c56e34bb  2017-07-05 00:00:00.000000   \n",
            "1                               NaN  2017-07-07 00:00:00.000000   \n",
            "2                               NaN  2017-07-10 00:00:00.000000   \n",
            "3                               NaN  2017-05-23 00:00:00.000000   \n",
            "4                               NaN  2017-06-12 00:00:00.000000   \n",
            "\n",
            "              firstrepaiddate  \n",
            "0  2017-07-04 17:59:36.000000  \n",
            "1  2017-07-10 08:42:44.000000  \n",
            "2  2017-07-11 10:02:11.000000  \n",
            "3  2017-05-27 12:52:45.000000  \n",
            "4  2017-06-08 11:03:40.000000  \n",
            "\n",
            "[5 rows x 29 columns]\n"
          ]
        }
      ],
      "source": [
        "import pandas as pd\n",
        "\n",
        "\n",
        "def combine_csv(demographics_file, performance_file, prevloans_file):\n",
        "  # Read the CSV files\n",
        "  demographics_df = pd.read_csv(demographics_file)\n",
        "  performance_df = pd.read_csv(performance_file)\n",
        "  prevloans_df = pd.read_csv(prevloans_file)\n",
        "\n",
        "  # Merge demographics and performance data\n",
        "  merged_df = pd.merge(demographics_df, performance_df, on='customerid', suffixes=('_current', '_previous'), how='left')\n",
        "\n",
        "  # Merge the merged DataFrame with previous loans data\n",
        "  merged_df = pd.merge(merged_df, prevloans_df, on='customerid', suffixes=('_current', '_previous'), how='left')\n",
        "\n",
        "  # Return the merged DataFrame\n",
        "  return merged_df\n",
        "\n",
        "\n",
        "demographics_file = '/content/traindemographics.csv'\n",
        "performance_file = '/content/trainperf (1).csv'\n",
        "prevloans_file = '/content/trainprevloans.csv'\n",
        "\n",
        "\n",
        "# Combine the data\n",
        "combined_data = combine_csv(demographics_file, performance_file, prevloans_file)\n",
        "\n",
        "\n",
        "# Print the first few rows of the combined data\n",
        "print(combined_data.head())"
      ]
    },
    {
      "cell_type": "code",
      "source": [
        "print(combined_data.info())"
      ],
      "metadata": {
        "colab": {
          "base_uri": "https://localhost:8080/"
        },
        "id": "Is3NtAjpW2aW",
        "outputId": "b4d6c3e1-5805-4d2d-bb06-35ea04e29f1c"
      },
      "execution_count": 104,
      "outputs": [
        {
          "output_type": "stream",
          "name": "stdout",
          "text": [
            "<class 'pandas.core.frame.DataFrame'>\n",
            "RangeIndex: 14767 entries, 0 to 14766\n",
            "Data columns (total 29 columns):\n",
            " #   Column                      Non-Null Count  Dtype  \n",
            "---  ------                      --------------  -----  \n",
            " 0   customerid                  14767 non-null  object \n",
            " 1   birthdate                   14767 non-null  object \n",
            " 2   bank_account_type           14767 non-null  object \n",
            " 3   longitude_gps               14767 non-null  float64\n",
            " 4   latitude_gps                14767 non-null  float64\n",
            " 5   bank_name_clients           14767 non-null  object \n",
            " 6   bank_branch_clients         125 non-null    object \n",
            " 7   employment_status_clients   13249 non-null  object \n",
            " 8   level_of_education_clients  3611 non-null   object \n",
            " 9   systemloanid_current        13698 non-null  float64\n",
            " 10  loannumber_current          13698 non-null  float64\n",
            " 11  approveddate_current        13698 non-null  object \n",
            " 12  creationdate_current        13698 non-null  object \n",
            " 13  loanamount_current          13698 non-null  float64\n",
            " 14  totaldue_current            13698 non-null  float64\n",
            " 15  termdays_current            13698 non-null  float64\n",
            " 16  referredby_current          802 non-null    object \n",
            " 17  good_bad_flag               13698 non-null  object \n",
            " 18  systemloanid_previous       13693 non-null  float64\n",
            " 19  loannumber_previous         13693 non-null  float64\n",
            " 20  approveddate_previous       13693 non-null  object \n",
            " 21  creationdate_previous       13693 non-null  object \n",
            " 22  loanamount_previous         13693 non-null  float64\n",
            " 23  totaldue_previous           13693 non-null  float64\n",
            " 24  termdays_previous           13693 non-null  float64\n",
            " 25  closeddate                  13693 non-null  object \n",
            " 26  referredby_previous         802 non-null    object \n",
            " 27  firstduedate                13693 non-null  object \n",
            " 28  firstrepaiddate             13693 non-null  object \n",
            "dtypes: float64(12), object(17)\n",
            "memory usage: 3.3+ MB\n",
            "None\n"
          ]
        }
      ]
    },
    {
      "cell_type": "code",
      "source": [
        "import pandas as pd\n",
        "# Convert date columns to datetime format\n",
        "date_columns = ['birthdate', 'approveddate_current', 'creationdate_current', 'approveddate_previous',\n",
        "                'creationdate_previous', 'closeddate', 'firstduedate', 'firstrepaiddate']\n",
        "combined_data[date_columns] = combined_data[date_columns].apply(pd.to_datetime)\n",
        "\n",
        "# Convert categorical columns to categorical data type\n",
        "categorical_columns = ['customerid','bank_account_type', 'bank_name_clients', 'bank_branch_clients',\n",
        "                       'employment_status_clients', 'level_of_education_clients', 'good_bad_flag','referredby_current','referredby_previous']\n",
        "combined_data[categorical_columns] = combined_data[categorical_columns].astype('category')\n",
        "\n",
        "# Ensure numerical columns are represented in the appropriate data type\n",
        "numerical_columns = ['longitude_gps', 'latitude_gps', 'systemloanid_current', 'loannumber_current',\n",
        "                     'loanamount_current', 'totaldue_current', 'termdays_current', 'systemloanid_previous',\n",
        "                     'loannumber_previous', 'loanamount_previous', 'totaldue_previous', 'termdays_previous']\n",
        "combined_data[numerical_columns] = combined_data[numerical_columns].astype(float)\n",
        "\n",
        "# Ensure systemloanid_previous, loannumber_previous, and other relevant columns are integers\n",
        "combined_data['systemloanid_previous'] = combined_data['systemloanid_previous'].astype('Int64')\n",
        "combined_data['loannumber_previous'] = combined_data['loannumber_previous'].astype('Int64')\n",
        "\n",
        "\n",
        "# Check the data types after conversion\n",
        "print(combined_data.dtypes)\n"
      ],
      "metadata": {
        "colab": {
          "base_uri": "https://localhost:8080/"
        },
        "id": "BofwPfHUykm4",
        "outputId": "111d59ef-00c2-4d16-97d8-f5ce8811ec60"
      },
      "execution_count": 105,
      "outputs": [
        {
          "output_type": "stream",
          "name": "stdout",
          "text": [
            "customerid                          category\n",
            "birthdate                     datetime64[ns]\n",
            "bank_account_type                   category\n",
            "longitude_gps                        float64\n",
            "latitude_gps                         float64\n",
            "bank_name_clients                   category\n",
            "bank_branch_clients                 category\n",
            "employment_status_clients           category\n",
            "level_of_education_clients          category\n",
            "systemloanid_current                 float64\n",
            "loannumber_current                   float64\n",
            "approveddate_current          datetime64[ns]\n",
            "creationdate_current          datetime64[ns]\n",
            "loanamount_current                   float64\n",
            "totaldue_current                     float64\n",
            "termdays_current                     float64\n",
            "referredby_current                  category\n",
            "good_bad_flag                       category\n",
            "systemloanid_previous                  Int64\n",
            "loannumber_previous                    Int64\n",
            "approveddate_previous         datetime64[ns]\n",
            "creationdate_previous         datetime64[ns]\n",
            "loanamount_previous                  float64\n",
            "totaldue_previous                    float64\n",
            "termdays_previous                    float64\n",
            "closeddate                    datetime64[ns]\n",
            "referredby_previous                 category\n",
            "firstduedate                  datetime64[ns]\n",
            "firstrepaiddate               datetime64[ns]\n",
            "dtype: object\n"
          ]
        }
      ]
    },
    {
      "cell_type": "code",
      "source": [
        "# Assuming 'combined_data' is your dataset and 'good_bad_flag' is the target variable\n",
        "unique_values = combined_data['good_bad_flag'].unique()\n",
        "print(\"Unique values in the target variable:\", unique_values)\n"
      ],
      "metadata": {
        "colab": {
          "base_uri": "https://localhost:8080/"
        },
        "id": "SNHOM5y4tisO",
        "outputId": "1d5d93c3-c4d1-48b4-a663-68aee2bff695"
      },
      "execution_count": 106,
      "outputs": [
        {
          "output_type": "stream",
          "name": "stdout",
          "text": [
            "Unique values in the target variable: ['Good', 'Bad', NaN]\n",
            "Categories (2, object): ['Bad', 'Good']\n"
          ]
        }
      ]
    },
    {
      "cell_type": "code",
      "source": [
        "from sklearn.preprocessing import OneHotEncoder, LabelEncoder\n",
        "\n",
        "# Encode categorical variables\n",
        "label_encoder = LabelEncoder()\n",
        "combined_data['bank_account_type'] = label_encoder.fit_transform(combined_data['bank_account_type'])\n",
        "combined_data['bank_name_clients'] = label_encoder.fit_transform(combined_data['bank_name_clients'])\n",
        "combined_data['bank_branch_clients'] = label_encoder.fit_transform(combined_data['bank_branch_clients'])\n",
        "combined_data['employment_status_clients'] = label_encoder.fit_transform(combined_data['employment_status_clients'])\n",
        "combined_data['level_of_education_clients'] = label_encoder.fit_transform(combined_data['level_of_education_clients'])\n",
        "combined_data['good_bad_flag'] = label_encoder.fit_transform(combined_data['good_bad_flag'])\n",
        "combined_data['customerid'] = label_encoder.fit_transform(combined_data['customerid'])\n",
        "combined_data['referredby_current'] = label_encoder.fit_transform(combined_data['referredby_current'])\n",
        "combined_data['systemloanid_previous'] = label_encoder.fit_transform(combined_data['systemloanid_previous'])\n",
        "combined_data['referredby_previous'] = label_encoder.fit_transform(combined_data['referredby_previous'])\n",
        "\n",
        "# Convert datetime variables to numerical representations (e.g., Unix timestamps)\n",
        "combined_data['birthdate'] = combined_data['birthdate'].astype(int) / 10**9  # Convert to Unix timestamp\n",
        "combined_data['approveddate_current'] = combined_data['approveddate_current'].astype(int) / 10**9\n",
        "combined_data['creationdate_current'] = combined_data['creationdate_current'].astype(int) / 10**9\n",
        "combined_data['approveddate_previous'] = combined_data['approveddate_previous'].astype(int) / 10**9\n",
        "combined_data['creationdate_previous'] = combined_data['creationdate_previous'].astype(int) / 10**9\n",
        "combined_data['closeddate'] = combined_data['closeddate'].astype(int) / 10**9\n",
        "combined_data['firstduedate'] = combined_data['firstduedate'].astype(int) / 10**9\n",
        "combined_data['firstrepaiddate'] = combined_data['firstrepaiddate'].astype(int) / 10**9\n",
        "\n",
        "# Check the updated data types\n",
        "print(combined_data.dtypes)\n"
      ],
      "metadata": {
        "colab": {
          "base_uri": "https://localhost:8080/"
        },
        "id": "FzAriNtezIrQ",
        "outputId": "a2bf9fe0-9312-42bf-be76-bebd1015c548"
      },
      "execution_count": 107,
      "outputs": [
        {
          "output_type": "stream",
          "name": "stdout",
          "text": [
            "customerid                      int64\n",
            "birthdate                     float64\n",
            "bank_account_type               int64\n",
            "longitude_gps                 float64\n",
            "latitude_gps                  float64\n",
            "bank_name_clients               int64\n",
            "bank_branch_clients             int64\n",
            "employment_status_clients       int64\n",
            "level_of_education_clients      int64\n",
            "systemloanid_current          float64\n",
            "loannumber_current            float64\n",
            "approveddate_current          float64\n",
            "creationdate_current          float64\n",
            "loanamount_current            float64\n",
            "totaldue_current              float64\n",
            "termdays_current              float64\n",
            "referredby_current              int64\n",
            "good_bad_flag                   int64\n",
            "systemloanid_previous           int64\n",
            "loannumber_previous             Int64\n",
            "approveddate_previous         float64\n",
            "creationdate_previous         float64\n",
            "loanamount_previous           float64\n",
            "totaldue_previous             float64\n",
            "termdays_previous             float64\n",
            "closeddate                    float64\n",
            "referredby_previous             int64\n",
            "firstduedate                  float64\n",
            "firstrepaiddate               float64\n",
            "dtype: object\n"
          ]
        }
      ]
    },
    {
      "cell_type": "code",
      "source": [
        "print(combined_data.info())"
      ],
      "metadata": {
        "colab": {
          "base_uri": "https://localhost:8080/"
        },
        "id": "vhVxDcLJzP_I",
        "outputId": "a4da9404-a0f5-4300-f857-0f4449431ba4"
      },
      "execution_count": 108,
      "outputs": [
        {
          "output_type": "stream",
          "name": "stdout",
          "text": [
            "<class 'pandas.core.frame.DataFrame'>\n",
            "RangeIndex: 14767 entries, 0 to 14766\n",
            "Data columns (total 29 columns):\n",
            " #   Column                      Non-Null Count  Dtype  \n",
            "---  ------                      --------------  -----  \n",
            " 0   customerid                  14767 non-null  int64  \n",
            " 1   birthdate                   14767 non-null  float64\n",
            " 2   bank_account_type           14767 non-null  int64  \n",
            " 3   longitude_gps               14767 non-null  float64\n",
            " 4   latitude_gps                14767 non-null  float64\n",
            " 5   bank_name_clients           14767 non-null  int64  \n",
            " 6   bank_branch_clients         14767 non-null  int64  \n",
            " 7   employment_status_clients   14767 non-null  int64  \n",
            " 8   level_of_education_clients  14767 non-null  int64  \n",
            " 9   systemloanid_current        13698 non-null  float64\n",
            " 10  loannumber_current          13698 non-null  float64\n",
            " 11  approveddate_current        14767 non-null  float64\n",
            " 12  creationdate_current        14767 non-null  float64\n",
            " 13  loanamount_current          13698 non-null  float64\n",
            " 14  totaldue_current            13698 non-null  float64\n",
            " 15  termdays_current            13698 non-null  float64\n",
            " 16  referredby_current          14767 non-null  int64  \n",
            " 17  good_bad_flag               14767 non-null  int64  \n",
            " 18  systemloanid_previous       14767 non-null  int64  \n",
            " 19  loannumber_previous         13693 non-null  Int64  \n",
            " 20  approveddate_previous       14767 non-null  float64\n",
            " 21  creationdate_previous       14767 non-null  float64\n",
            " 22  loanamount_previous         13693 non-null  float64\n",
            " 23  totaldue_previous           13693 non-null  float64\n",
            " 24  termdays_previous           13693 non-null  float64\n",
            " 25  closeddate                  14767 non-null  float64\n",
            " 26  referredby_previous         14767 non-null  int64  \n",
            " 27  firstduedate                14767 non-null  float64\n",
            " 28  firstrepaiddate             14767 non-null  float64\n",
            "dtypes: Int64(1), float64(18), int64(10)\n",
            "memory usage: 3.3 MB\n",
            "None\n"
          ]
        }
      ]
    },
    {
      "cell_type": "code",
      "source": [
        "from sklearn.impute import SimpleImputer\n",
        "\n",
        "# Define imputers for numerical and categorical features\n",
        "numerical_imputer = SimpleImputer(strategy='median')  # Impute missing numerical values with median\n",
        "categorical_imputer = SimpleImputer(strategy='most_frequent')  # Impute missing categorical values with most frequent\n",
        "\n",
        "# Separate numerical, categorical, and datetime features\n",
        "numerical_features = combined_data.select_dtypes(include=['float64', 'int64']).columns\n",
        "categorical_features = combined_data.select_dtypes(include=['category']).columns\n",
        "datetime_features = combined_data.select_dtypes(include=['datetime64']).columns\n",
        "\n",
        "# Impute missing values for numerical features\n",
        "combined_data[numerical_features] = numerical_imputer.fit_transform(combined_data[numerical_features])\n",
        "\n",
        "print(combined_data[categorical_features].isnull().sum())\n",
        "\n",
        "\n",
        "# Impute missing values for datetime features (using forward-fill)\n",
        "combined_data[datetime_features] = combined_data[datetime_features].ffill()\n",
        "\n",
        "# Check for any remaining missing values\n",
        "print(combined_data.isnull().sum())\n"
      ],
      "metadata": {
        "colab": {
          "base_uri": "https://localhost:8080/"
        },
        "id": "rTVadPPO1rpf",
        "outputId": "d04b7b3a-97c1-445c-8d5f-b20380fdf04e"
      },
      "execution_count": 109,
      "outputs": [
        {
          "output_type": "stream",
          "name": "stdout",
          "text": [
            "Series([], dtype: float64)\n",
            "customerid                    0\n",
            "birthdate                     0\n",
            "bank_account_type             0\n",
            "longitude_gps                 0\n",
            "latitude_gps                  0\n",
            "bank_name_clients             0\n",
            "bank_branch_clients           0\n",
            "employment_status_clients     0\n",
            "level_of_education_clients    0\n",
            "systemloanid_current          0\n",
            "loannumber_current            0\n",
            "approveddate_current          0\n",
            "creationdate_current          0\n",
            "loanamount_current            0\n",
            "totaldue_current              0\n",
            "termdays_current              0\n",
            "referredby_current            0\n",
            "good_bad_flag                 0\n",
            "systemloanid_previous         0\n",
            "loannumber_previous           0\n",
            "approveddate_previous         0\n",
            "creationdate_previous         0\n",
            "loanamount_previous           0\n",
            "totaldue_previous             0\n",
            "termdays_previous             0\n",
            "closeddate                    0\n",
            "referredby_previous           0\n",
            "firstduedate                  0\n",
            "firstrepaiddate               0\n",
            "dtype: int64\n"
          ]
        }
      ]
    },
    {
      "cell_type": "code",
      "source": [
        "# Assuming 'combined_data' is your dataset and 'good_bad_flag' is the target variable\n",
        "unique_values = combined_data['good_bad_flag'].unique()\n",
        "print(\"Unique values in the target variable:\", unique_values)"
      ],
      "metadata": {
        "id": "jgvpOmdf1Crh"
      },
      "execution_count": null,
      "outputs": []
    },
    {
      "cell_type": "code",
      "source": [
        "#filter out rows where the 'good_bad_flag' column is not equal to 2 2\n",
        "combined_data = combined_data[combined_data['good_bad_flag'] != 2]\n"
      ],
      "metadata": {
        "id": "lXTMxyknupsR"
      },
      "execution_count": 111,
      "outputs": []
    },
    {
      "cell_type": "code",
      "source": [
        "# Assuming 'combined_data' is your dataset and 'good_bad_flag' is the target variable\n",
        "unique_values = combined_data['good_bad_flag'].unique()\n",
        "print(\"Unique values in the target variable:\", unique_values)\n"
      ],
      "metadata": {
        "colab": {
          "base_uri": "https://localhost:8080/"
        },
        "id": "jTDi45quvCEZ",
        "outputId": "ac39453f-11ff-48de-972c-ef30152460e0"
      },
      "execution_count": 113,
      "outputs": [
        {
          "output_type": "stream",
          "name": "stdout",
          "text": [
            "Unique values in the target variable: [1. 0.]\n"
          ]
        }
      ]
    },
    {
      "cell_type": "code",
      "source": [
        "from sklearn.model_selection import train_test_split\n",
        "from sklearn.ensemble import RandomForestClassifier\n",
        "from sklearn.metrics import accuracy_score\n",
        "\n",
        "# Split data into features and target variable\n",
        "X = combined_data.drop(columns=['good_bad_flag'])\n",
        "y = combined_data['good_bad_flag']\n",
        "\n",
        "X_train, X_test, y_train, y_test = train_test_split(X, y, test_size=0.2, random_state=42)\n",
        "\n",
        "# Train model before handling outliers\n",
        "model_before = RandomForestClassifier()\n",
        "model_before.fit(X_train, y_train)\n",
        "y_pred_before = model_before.predict(X_test)\n",
        "accuracy_before = accuracy_score(y_test, y_pred_before)\n",
        "print(\"Accuracy before handling outliers:\", accuracy_before)\n"
      ],
      "metadata": {
        "colab": {
          "base_uri": "https://localhost:8080/"
        },
        "id": "MQsD2K8oB-o3",
        "outputId": "f70433e4-4565-4518-d57a-a52d7acf5aa3"
      },
      "execution_count": 114,
      "outputs": [
        {
          "output_type": "stream",
          "name": "stdout",
          "text": [
            "Accuracy before handling outliers: 0.9518248175182482\n"
          ]
        }
      ]
    },
    {
      "cell_type": "code",
      "source": [
        "import matplotlib.pyplot as plt\n",
        "import seaborn as sns\n",
        "import numpy as np"
      ],
      "metadata": {
        "id": "yUH3WJPka9Ni"
      },
      "execution_count": 115,
      "outputs": []
    },
    {
      "cell_type": "code",
      "source": [
        "# Select numerical columns for outlier detection\n",
        "numerical_columns = combined_data.select_dtypes(include=['float64', 'int64']).columns"
      ],
      "metadata": {
        "id": "TiMqO76ycLvJ"
      },
      "execution_count": 116,
      "outputs": []
    },
    {
      "cell_type": "code",
      "source": [
        "# Visual inspection: box plots for numerical columns\n",
        "# plt.figure(figsize=(15, 10))\n",
        "for i in range(1, min(len(numerical_columns) + 1, 17)):\n",
        "    plt.subplot(4, 4, i)\n",
        "    sns.boxplot(x=combined_data[numerical_columns[i-1]])\n",
        "    plt.title(numerical_columns[i-1])\n",
        "plt.tight_layout()\n",
        "plt.show()"
      ],
      "metadata": {
        "colab": {
          "base_uri": "https://localhost:8080/",
          "height": 451
        },
        "id": "YwZ51em5bYSh",
        "outputId": "f98052d4-f516-41ae-99df-54110fb607d5"
      },
      "execution_count": 117,
      "outputs": [
        {
          "output_type": "display_data",
          "data": {
            "text/plain": [
              "<Figure size 640x480 with 16 Axes>"
            ],
            "image/png": "[encoded data removed]"
          },
          "metadata": {}
        }
      ]
    },
    {
      "cell_type": "code",
      "source": [
        "# Statistical methods: identify outliers based on IQR\n",
        "outlier_indices = []\n",
        "for column in numerical_columns:\n",
        "    Q1 =combined_data[column].quantile(0.25)\n",
        "    Q3 = combined_data[column].quantile(0.75)\n",
        "    IQR = Q3 - Q1\n",
        "    lower_bound = Q1 - 1.5 * IQR\n",
        "    upper_bound = Q3 + 1.5 * IQR\n",
        "    outliers = combined_data[(combined_data[column] < lower_bound) | (combined_data[column] > upper_bound)]\n",
        "    outlier_indices.extend(outliers.index)\n"
      ],
      "metadata": {
        "id": "vsv85yBJlYKq"
      },
      "execution_count": 118,
      "outputs": []
    },
    {
      "cell_type": "code",
      "source": [
        "# Capture  outlier indices\n",
        "outlier_indices = list(set(outlier_indices))"
      ],
      "metadata": {
        "id": "qPOoI_BJlp3v"
      },
      "execution_count": 119,
      "outputs": []
    },
    {
      "cell_type": "code",
      "source": [
        "# Handle outliers\n",
        "def average_outliers(df, outlier_indices):\n",
        "  # Group outliers by their values\n",
        "  outlier_groups = {}\n",
        "  for i in outlier_indices:\n",
        "    value = df.loc[i][0]\n",
        "    if value not in outlier_groups:\n",
        "      outlier_groups[value] = []\n",
        "    outlier_groups[value].append(i)\n",
        "\n",
        "  # Calculate the average for each group of outliers\n",
        "  for value, indices in outlier_groups.items():\n",
        "    average = sum(df.loc[i] for i in indices) / len(indices)\n",
        "    for i in indices:\n",
        "      df.loc[i] = average\n",
        "\n",
        "  return df\n",
        "\n",
        "df_cleaned = average_outliers(combined_data, outlier_indices)"
      ],
      "metadata": {
        "id": "AhDuoltxQifK"
      },
      "execution_count": 120,
      "outputs": []
    },
    {
      "cell_type": "code",
      "source": [
        "# Check the shape of the cleaned dataset\n",
        "print(\"Shape of the cleaned dataset:\", df_cleaned.shape)"
      ],
      "metadata": {
        "colab": {
          "base_uri": "https://localhost:8080/"
        },
        "id": "r1lI_EgAl7dV",
        "outputId": "9b310434-e41e-4f7e-ca21-759e2663c27c"
      },
      "execution_count": 121,
      "outputs": [
        {
          "output_type": "stream",
          "name": "stdout",
          "text": [
            "Shape of the cleaned dataset: (13698, 29)\n"
          ]
        }
      ]
    },
    {
      "cell_type": "code",
      "source": [
        "# Split data into features and target variable\n",
        "X = df_cleaned.drop(columns=['good_bad_flag'])\n",
        "y = df_cleaned['good_bad_flag']"
      ],
      "metadata": {
        "id": "zqk_cmxWTOkw"
      },
      "execution_count": 122,
      "outputs": []
    },
    {
      "cell_type": "code",
      "source": [
        "X_train, X_test, y_train, y_test = train_test_split(X, y, test_size=0.3, random_state=42)"
      ],
      "metadata": {
        "id": "a4NmhwhLTZ0e"
      },
      "execution_count": 123,
      "outputs": []
    },
    {
      "cell_type": "code",
      "source": [
        "# Standardize the features\n",
        "from sklearn.preprocessing import StandardScaler\n",
        "scaler = StandardScaler()\n",
        "X_train_scaled = scaler.fit_transform(X_train)\n",
        "X_test_scaled = scaler.transform(X_test)"
      ],
      "metadata": {
        "id": "YGePx5zwghiA"
      },
      "execution_count": 124,
      "outputs": []
    },
    {
      "cell_type": "code",
      "source": [
        "model_after = RandomForestClassifier()\n",
        "model_after.fit(X_train_scaled, y_train)\n",
        "y_pred_after = model_after.predict(X_test_scaled)\n",
        "accuracy_after = accuracy_score(y_test, y_pred_after)\n"
      ],
      "metadata": {
        "id": "TP4gqTB6VH0F"
      },
      "execution_count": 125,
      "outputs": []
    },
    {
      "cell_type": "code",
      "source": [
        "print(\"Accuracy before handling missing values:\", accuracy_before)\n",
        "print(\"Accuracy after handling missing values and outliers:\", accuracy_after)"
      ],
      "metadata": {
        "colab": {
          "base_uri": "https://localhost:8080/"
        },
        "id": "seX4CvcGVO6t",
        "outputId": "900196d1-cb39-43ae-9910-fca037a2376a"
      },
      "execution_count": 126,
      "outputs": [
        {
          "output_type": "stream",
          "name": "stdout",
          "text": [
            "Accuracy before handling missing values: 0.9518248175182482\n",
            "Accuracy after handling missing values and outliers: 0.9708029197080292\n"
          ]
        }
      ]
    },
    {
      "cell_type": "code",
      "source": [
        "# Check for data leakage by ensuring that there's no overlap between training and testing indices\n",
        "train_indices = set(X_train.index)\n",
        "test_indices = set(X_test.index)\n",
        "intersection = train_indices.intersection(test_indices)\n",
        "if intersection:\n",
        "    print(\"Data leakage detected! Overlapping indices between training and testing data.\")\n",
        "else:\n",
        "    print(\"No data leakage detected.\")"
      ],
      "metadata": {
        "colab": {
          "base_uri": "https://localhost:8080/"
        },
        "id": "kXJueujBGg8U",
        "outputId": "9faf6f88-c39f-4df1-9fdb-fd32b6b8802b"
      },
      "execution_count": 127,
      "outputs": [
        {
          "output_type": "stream",
          "name": "stdout",
          "text": [
            "No data leakage detected.\n"
          ]
        }
      ]
    },
    {
      "cell_type": "code",
      "source": [
        "# Check class distribution of the target variable\n",
        "class_distribution = df_cleaned['good_bad_flag'].value_counts()\n",
        "print(\"Class distribution:\")\n",
        "print(class_distribution)\n",
        "\n",
        "# Plot class distribution\n",
        "plt.figure(figsize=(8, 5))\n",
        "sns.countplot(x='good_bad_flag', data=df_cleaned)\n",
        "plt.title('Class Distribution')\n",
        "plt.xlabel('Good/Bad Flag')\n",
        "plt.ylabel('Count')\n",
        "plt.show()"
      ],
      "metadata": {
        "colab": {
          "base_uri": "https://localhost:8080/",
          "height": 536
        },
        "id": "QlQIbRfPGqGb",
        "outputId": "ae87a0bf-8353-4586-9074-b021b64ff258"
      },
      "execution_count": 128,
      "outputs": [
        {
          "output_type": "stream",
          "name": "stdout",
          "text": [
            "Class distribution:\n",
            "good_bad_flag\n",
            "1.0    11168\n",
            "0.0     2530\n",
            "Name: count, dtype: int64\n"
          ]
        },
        {
          "output_type": "display_data",
          "data": {
            "text/plain": [
              "<Figure size 800x500 with 1 Axes>"
            ],
            "image/png": "[encoded data removed]"
          },
          "metadata": {}
        }
      ]
    },
    {
      "cell_type": "code",
      "source": [
        "from sklearn.metrics import precision_score, recall_score, f1_score\n",
        "\n",
        "\n",
        "# Calculate precision\n",
        "precision = precision_score(y_test, y_pred_after,average='micro')\n",
        "print(\"Precision:\", precision)\n",
        "\n",
        "# Calculate recall\n",
        "recall = recall_score(y_test, y_pred_after, average='micro')\n",
        "print(\"Recall:\", recall)\n",
        "\n",
        "# Calculate F1-score\n",
        "f1 = f1_score(y_test, y_pred_after, average='micro')\n",
        "print(\"F1-score:\", f1)\n",
        "\n"
      ],
      "metadata": {
        "colab": {
          "base_uri": "https://localhost:8080/"
        },
        "id": "LRiiwl5ZKsD5",
        "outputId": "da3d5a69-cb74-46e9-d171-8288d6e24aa0"
      },
      "execution_count": 129,
      "outputs": [
        {
          "output_type": "stream",
          "name": "stdout",
          "text": [
            "Precision: 0.9708029197080292\n",
            "Recall: 0.9708029197080292\n",
            "F1-score: 0.9708029197080292\n"
          ]
        }
      ]
    },
    {
      "cell_type": "code",
      "source": [
        "from sklearn.linear_model import LogisticRegression\n",
        "from sklearn.metrics import classification_report\n",
        "\n",
        "# Initialize and train the Logistic Regression model\n",
        "model_lr = LogisticRegression()\n",
        "model_lr.fit(X_train_scaled, y_train)\n",
        "\n",
        "# Evaluate the model\n",
        "y_pred_lr = model_lr.predict(X_test_scaled)\n",
        "print(\"Classification report for Logistic Regression:\")\n",
        "print(classification_report(y_test, y_pred_lr))"
      ],
      "metadata": {
        "colab": {
          "base_uri": "https://localhost:8080/"
        },
        "id": "JDLYcKocHEuW",
        "outputId": "b0aba49b-1e1d-4024-cca2-40a0caaaf8ef"
      },
      "execution_count": 130,
      "outputs": [
        {
          "output_type": "stream",
          "name": "stdout",
          "text": [
            "Classification report for Logistic Regression:\n",
            "              precision    recall  f1-score   support\n",
            "\n",
            "         0.0       1.00      0.00      0.00       744\n",
            "         1.0       0.82      1.00      0.90      3366\n",
            "\n",
            "    accuracy                           0.82      4110\n",
            "   macro avg       0.91      0.50      0.45      4110\n",
            "weighted avg       0.85      0.82      0.74      4110\n",
            "\n"
          ]
        },
        {
          "output_type": "stream",
          "name": "stderr",
          "text": [
            "/usr/local/lib/python3.10/dist-packages/sklearn/linear_model/_logistic.py:458: ConvergenceWarning: lbfgs failed to converge (status=1):\n",
            "STOP: TOTAL NO. of ITERATIONS REACHED LIMIT.\n",
            "\n",
            "Increase the number of iterations (max_iter) or scale the data as shown in:\n",
            "    https://scikit-learn.org/stable/modules/preprocessing.html\n",
            "Please also refer to the documentation for alternative solver options:\n",
            "    https://scikit-learn.org/stable/modules/linear_model.html#logistic-regression\n",
            "  n_iter_i = _check_optimize_result(\n"
          ]
        }
      ]
    },
    {
      "cell_type": "code",
      "source": [
        "from sklearn.metrics import accuracy_score, precision_score, recall_score, f1_score, confusion_matrix\n",
        "# Calculate accuracy\n",
        "accuracy = accuracy_score(y_test, y_pred_lr)\n",
        "print(\"Accuracy:\", accuracy)\n",
        "\n",
        "# Calculate precision\n",
        "precision = precision_score(y_test, y_pred_lr, average='micro')\n",
        "print(\"Precision:\", precision)\n",
        "\n",
        "# Calculate recall\n",
        "recall = recall_score(y_test, y_pred_lr, average='micro')\n",
        "print(\"Recall:\", recall)\n",
        "\n",
        "# Calculate F1-score\n",
        "f1 = f1_score(y_test, y_pred_lr, average='micro')\n",
        "print(\"F1-score:\", f1)\n",
        "\n"
      ],
      "metadata": {
        "colab": {
          "base_uri": "https://localhost:8080/"
        },
        "id": "E5CJxuvRmLwe",
        "outputId": "99eebb16-0588-4f06-ffb3-c6158801b191"
      },
      "execution_count": 131,
      "outputs": [
        {
          "output_type": "stream",
          "name": "stdout",
          "text": [
            "Accuracy: 0.8192214111922141\n",
            "Precision: 0.8192214111922141\n",
            "Recall: 0.8192214111922141\n",
            "F1-score: 0.8192214111922143\n"
          ]
        }
      ]
    },
    {
      "cell_type": "code",
      "source": [
        "import tensorflow as tf\n",
        "from tensorflow import keras\n",
        "from sklearn.preprocessing import StandardScaler\n",
        "\n",
        "# Define the neural network architecture\n",
        "model = keras.Sequential([\n",
        "    keras.layers.Dense(64, activation='relu', input_shape=(X_train_scaled.shape[1],)),\n",
        "    keras.layers.Dense(32, activation='relu'),\n",
        "    keras.layers.Dense(1, activation='sigmoid')\n",
        "])\n",
        "\n",
        "# Compile the model\n",
        "model.compile(optimizer='adam',\n",
        "              loss='binary_crossentropy',\n",
        "              metrics=['accuracy'])\n",
        "\n",
        "# Train the model\n",
        "history = model.fit(X_train_scaled, y_train, epochs=10, batch_size=32, validation_split=0.2)\n",
        "\n",
        "# Evaluate the model on the test set\n",
        "y_pred_proba = model.predict(X_test_scaled)\n",
        "y_pred = (y_pred_proba > 0.5).astype(int)\n",
        "\n",
        "# Calculate accuracy\n",
        "accuracy = accuracy_score(y_test, y_pred)\n",
        "print(\"Accuracy:\", accuracy)\n"
      ],
      "metadata": {
        "colab": {
          "base_uri": "https://localhost:8080/"
        },
        "id": "NKVzTpBWTUr5",
        "outputId": "99e22063-dad1-46b0-9f78-cf56084fd981"
      },
      "execution_count": 132,
      "outputs": [
        {
          "output_type": "stream",
          "name": "stdout",
          "text": [
            "Epoch 1/10\n",
            "240/240 [==============================] - 2s 4ms/step - loss: 0.4731 - accuracy: 0.8106 - val_loss: 0.4406 - val_accuracy: 0.8128\n",
            "Epoch 2/10\n",
            "240/240 [==============================] - 1s 3ms/step - loss: 0.4344 - accuracy: 0.8146 - val_loss: 0.4346 - val_accuracy: 0.8144\n",
            "Epoch 3/10\n",
            "240/240 [==============================] - 1s 3ms/step - loss: 0.4192 - accuracy: 0.8199 - val_loss: 0.4181 - val_accuracy: 0.8222\n",
            "Epoch 4/10\n",
            "240/240 [==============================] - 1s 3ms/step - loss: 0.4030 - accuracy: 0.8231 - val_loss: 0.3978 - val_accuracy: 0.8222\n",
            "Epoch 5/10\n",
            "240/240 [==============================] - 1s 3ms/step - loss: 0.3870 - accuracy: 0.8287 - val_loss: 0.3852 - val_accuracy: 0.8306\n",
            "Epoch 6/10\n",
            "240/240 [==============================] - 1s 3ms/step - loss: 0.3727 - accuracy: 0.8348 - val_loss: 0.3713 - val_accuracy: 0.8332\n",
            "Epoch 7/10\n",
            "240/240 [==============================] - 1s 3ms/step - loss: 0.3586 - accuracy: 0.8404 - val_loss: 0.3631 - val_accuracy: 0.8379\n",
            "Epoch 8/10\n",
            "240/240 [==============================] - 1s 3ms/step - loss: 0.3455 - accuracy: 0.8458 - val_loss: 0.3423 - val_accuracy: 0.8504\n",
            "Epoch 9/10\n",
            "240/240 [==============================] - 1s 3ms/step - loss: 0.3342 - accuracy: 0.8541 - val_loss: 0.3360 - val_accuracy: 0.8498\n",
            "Epoch 10/10\n",
            "240/240 [==============================] - 1s 4ms/step - loss: 0.3209 - accuracy: 0.8602 - val_loss: 0.3309 - val_accuracy: 0.8478\n",
            "129/129 [==============================] - 0s 1ms/step\n",
            "Accuracy: 0.8469586374695863\n"
          ]
        }
      ]
    },
    {
      "cell_type": "code",
      "source": [
        "from sklearn.svm import SVC\n",
        "from sklearn.metrics import accuracy_score\n",
        "\n",
        "# Initialize the SVM classifier\n",
        "svm_classifier = SVC(kernel='rbf', random_state=42)\n",
        "\n",
        "# Train the SVM model\n",
        "svm_classifier.fit(X_train_scaled, y_train)\n",
        "\n",
        "# Make predictions on the test set\n",
        "y_pred = svm_classifier.predict(X_test_scaled)\n",
        "\n",
        "# Calculate accuracy\n",
        "accuracy = accuracy_score(y_test, y_pred)\n",
        "# print(\"Accuracy:\", accuracy)\n"
      ],
      "metadata": {
        "id": "x5YwlM--kU5H"
      },
      "execution_count": 133,
      "outputs": []
    },
    {
      "cell_type": "code",
      "source": [
        "from sklearn.metrics import accuracy_score, precision_score, recall_score, f1_score, confusion_matrix\n",
        "\n",
        "# Calculate accuracy\n",
        "accuracy = accuracy_score(y_test, y_pred)\n",
        "print(\"Accuracy:\", accuracy)\n",
        "\n",
        "# Calculate precision\n",
        "precision = precision_score(y_test, y_pred, average='micro')\n",
        "print(\"Precision:\", precision)\n",
        "\n",
        "# Calculate recall\n",
        "recall = recall_score(y_test, y_pred, average='micro')\n",
        "print(\"Recall:\", recall)\n",
        "\n",
        "# Calculate F1-score\n",
        "f1 = f1_score(y_test, y_pred, average='micro')\n",
        "print(\"F1-score:\", f1)\n",
        "\n"
      ],
      "metadata": {
        "colab": {
          "base_uri": "https://localhost:8080/"
        },
        "id": "j98bNs3VlLad",
        "outputId": "4995c3ba-f0e1-4bf0-c1b0-57df896435c0"
      },
      "execution_count": 134,
      "outputs": [
        {
          "output_type": "stream",
          "name": "stdout",
          "text": [
            "Accuracy: 0.8328467153284671\n",
            "Precision: 0.8328467153284671\n",
            "Recall: 0.8328467153284671\n",
            "F1-score: 0.8328467153284671\n"
          ]
        }
      ]
    }
  ]
}